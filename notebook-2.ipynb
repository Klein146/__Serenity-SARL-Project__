{
 "cells": [
  {
   "cell_type": "code",
   "source": [
    "# Start writing code here..."
   ],
   "metadata": {
    "tags": [],
    "cell_id": "4cb000a6652c450aa4f0f2eefe6f6c51",
    "deepnote_cell_height": 66,
    "deepnote_cell_type": "code",
    "pycharm": {
     "name": "#%%\n"
    }
   },
   "outputs": [],
   "execution_count": 11
  },
  {
   "cell_type": "markdown",
   "source": [
    "##### Objectif : \n",
    "Dans cette démarche, nous souhaitons comprendre la distribution économico-spatiale des cabinets et les taux de couverture des patients sur le territoire."
   ],
   "metadata": {
    "tags": [],
    "cell_id": "a93e187e7296445b87cdcadae77948db",
    "deepnote_cell_height": 88,
    "deepnote_cell_type": "markdown",
    "pycharm": {
     "name": "#%% md\n"
    }
   }
  },
  {
   "cell_type": "markdown",
   "source": [
    "Task : exploratoire initial pour une zone géographique (ex. un département, comme  la Loire-Atlantique). \n",
    "\n",
    ".Collecte des données (ameli.fr & data.gouv.fr)\n",
    ".Aggregation\n",
    ".Analyse des résultats, présentation\n",
    ".Profil des zones couvertes, cabinets, densité de population et praticiens\n"
   ],
   "metadata": {
    "tags": [],
    "cell_id": "d193e6ae65524a40885a4f9360b7fee9",
    "deepnote_cell_height": 110,
    "deepnote_cell_type": "markdown",
    "pycharm": {
     "name": "#%% md\n"
    }
   }
  },
  {
   "cell_type": "markdown",
   "source": [
    "##  ___1 Collecte des données___ \n",
    "\n",
    "###### ___grace à ce lien : http://annuairesante.ameli.fr/trouver-un-professionnel-de-sante/chirurgiens-dentistes___\n",
    "\n",
    "collectez le nom, prénom, numéro de téléphone, adresse, et société du praticien  (plusieurs praticiens peuvent partager une structure, c'est important à savoir).\n",
    "Nous allons collecter les données sur les actes et horaires aussi et pousser l'analyse à la catégorisation (clustering) des profils de praticiens.\n",
    "\n",
    "##### ___Données publiques (INSEE) accessibles sur https://www.data.gouv.fr/en/datasets/population/#description___"
   ],
   "metadata": {
    "tags": [],
    "cell_id": "3034f4c62bfe444aa9f6d99196691657",
    "deepnote_cell_height": 190,
    "deepnote_cell_type": "markdown",
    "pycharm": {
     "name": "#%% md\n"
    }
   }
  },
  {
   "cell_type": "code",
   "source": [
    "!pip install --upgrade pip "
   ],
   "metadata": {
    "tags": [],
    "cell_id": "fcc20b9c8e294607922ccc6c3d9dac5d",
    "source_hash": "b5b5fc7c",
    "execution_start": 1655766684106,
    "execution_millis": 5016,
    "deepnote_cell_height": 337,
    "deepnote_to_be_reexecuted": false,
    "deepnote_cell_type": "code",
    "pycharm": {
     "name": "#%%\n"
    }
   },
   "outputs": [
    {
     "name": "stdout",
     "output_type": "stream",
     "text": [
      "Requirement already satisfied: pip in /Users/Home/opt/anaconda3/lib/python3.9/site-packages (22.3.1)\r\n"
     ]
    }
   ],
   "execution_count": 12
  },
  {
   "cell_type": "code",
   "source": [
    "!pip install bs4"
   ],
   "metadata": {
    "tags": [],
    "cell_id": "ebae8d16826a406eac6d117c35010f30",
    "source_hash": "7dd11dae",
    "execution_start": 1655766692510,
    "execution_millis": 3210,
    "deepnote_cell_height": 197,
    "deepnote_to_be_reexecuted": false,
    "deepnote_cell_type": "code",
    "pycharm": {
     "name": "#%%\n"
    }
   },
   "outputs": [
    {
     "name": "stdout",
     "output_type": "stream",
     "text": [
      "Requirement already satisfied: bs4 in /Users/Home/opt/anaconda3/lib/python3.9/site-packages (0.0.1)\r\n",
      "Requirement already satisfied: beautifulsoup4 in /Users/Home/opt/anaconda3/lib/python3.9/site-packages (from bs4) (4.11.1)\r\n",
      "Requirement already satisfied: soupsieve>1.2 in /Users/Home/opt/anaconda3/lib/python3.9/site-packages (from beautifulsoup4->bs4) (2.3.1)\r\n"
     ]
    }
   ],
   "execution_count": 13
  },
  {
   "cell_type": "code",
   "source": [
    "\"\"\" Webscraping\"\"\"\n",
    "\n",
    "import csv\n",
    "import requests\n",
    "from bs4 import BeautifulSoup\n",
    "import urllib.request\n",
    "import pandas as pd\n",
    "\n",
    "\n",
    "\n",
    "#source = urllib.request.urlopen(\"http://annuairesante.ameli.fr/trouver-un-professionnel-de-sante/chirurgiens-dentistes\")\n",
    "#soup = bs.BeautifulSoup(source, 'html.parser')\n",
    "\n",
    "url = \"https://annuairesante.ameli.fr/trouver-un-professionnel-de-sante/chirurgiens-dentistes\"\n",
    "result = requests.get(url)\n",
    "soup = BeautifulSoup(result.content, \"html.parser\")\n"
   ],
   "metadata": {
    "tags": [],
    "cell_id": "0ac57e65dd94433c9341b866ea7cb13c",
    "source_hash": "f4daee7a",
    "execution_start": 1655954185980,
    "execution_millis": 2527,
    "deepnote_cell_height": 369,
    "deepnote_to_be_reexecuted": false,
    "deepnote_cell_type": "code",
    "pycharm": {
     "name": "#%%\n"
    }
   },
   "outputs": [],
   "execution_count": 14
  },
  {
   "cell_type": "code",
   "source": [
    "\"\"\" \n",
    "Champs nom & prénom\n",
    "\"\"\"\n",
    "\n",
    "#Récupération de tous les liens \n",
    "link_liste = []\n",
    "for li in soup.findAll('li', class_='seo-departement'):\n",
    "    a = li.find('a')\n",
    "    link_name = a.get('href')\n",
    "    link_liste.append(link_name)\n",
    "#print(link_liste)\n",
    "\n",
    "#for each_link in link_liste :\n",
    "#url = \"http://annuairesante.ameli.fr\" + str(each_link)\n",
    "\n",
    "\n",
    "url = \"http://annuairesante.ameli.fr/trouver-un-professionnel-de-sante/chirurgiens-dentistes/61-orne-flers\"\n",
    "reponse = requests.get(url)\n",
    "soup = BeautifulSoup(reponse.content, 'html.parser')\n",
    "for nom_complet_du_medecin in soup.findAll('h2', {'class':'ignore-css'},'a'):\n",
    "    print(nom_complet_du_medecin.get_text('')) \n",
    "\n",
    "#### NB: split dans le dataframe pour le nom et le prenom (même si ca n'a aucun impact)\n"
   ],
   "metadata": {
    "tags": [],
    "cell_id": "092874e9834645188e6e227b93ea1706",
    "source_hash": "168404c5",
    "execution_start": 1655949971338,
    "execution_millis": 306,
    "deepnote_cell_height": 686,
    "deepnote_to_be_reexecuted": false,
    "deepnote_cell_type": "code",
    "pycharm": {
     "name": "#%%\n"
    }
   },
   "outputs": [
    {
     "name": "stdout",
     "output_type": "stream",
     "text": [
      "CHITU MARIA IULIA\n",
      "FEVRIER YVON\n",
      "BOGOPOLSKY REGIS\n",
      "LEMASLE PAULE\n",
      "COLETTE JEAN FRANCOIS\n",
      "POPESCU TEODOR ALEXANDR\n",
      "COJEAN DIDIER\n",
      "GINISTY LAETITIA\n",
      "TOVARU TUDOR\n",
      "IERCAN DANIELA\n"
     ]
    }
   ],
   "execution_count": 15
  },
  {
   "cell_type": "code",
   "source": [
    "\"\"\" \n",
    "Champs acte du medecin\n",
    "\"\"\"\n",
    "\n",
    "\n",
    "url = \"http://annuairesante.ameli.fr/trouver-un-professionnel-de-sante/chirurgiens-dentistes/61-orne-alencon\"\n",
    "reponse = requests.get(url)\n",
    "soup = BeautifulSoup(reponse.content, 'html.parser')\n",
    "\n",
    "print(soup.find_all('div'))\n",
    "\n"
   ],
   "metadata": {
    "tags": [],
    "cell_id": "1b6d7effbd874aa1a2c94ac5aac742d6",
    "source_hash": "10fc3558",
    "execution_start": 1655955156838,
    "execution_millis": 458,
    "deepnote_cell_height": 899,
    "deepnote_to_be_reexecuted": false,
    "deepnote_cell_type": "code",
    "pycharm": {
     "name": "#%%\n"
    }
   },
   "outputs": [
    {
     "name": "stdout",
     "output_type": "stream",
     "text": [
      "[<div id=\"site\">\n",
      "<div id=\"entete\">\n",
      "<a href=\"/\" title=\"\"><img alt=\"L'Assurance Maladie\" class=\"logoam\" src=\"/resources_ver/20220302095149/images/logo_annuaire_sante.svg\"/></a>\n",
      "<div class=\"acces\">\n",
      "<a href=\"https://assure.ameli.fr\" target=\"_blank\">Accéder au compte ameli</a>\n",
      "</div>\n",
      "</div>\n",
      "<div id=\"site_inner\">\n",
      "<div class=\"ariane\" id=\"filariane\">\n",
      "<p></p>\n",
      "</div>\n",
      "<div class=\"print-result impression\"></div>\n",
      "<div class=\"clear\"></div>\n",
      "<div class=\"recapitulatif\">\n",
      "<div class=\"recapitulatif-inner seo-bloc\">\n",
      "<div class=\"infos\">\n",
      "<div class=\"boutons\">\n",
      "</div>\n",
      "<div class=\"faux-titre-seo\">22 résultats correspondent à votre recherche</div>\n",
      "<h1 class=\"titre-seo\">\n",
      "<ul>\n",
      "<li>Profession : Chirurgiens-dentistes</li>\n",
      "<li>Lieu : 61/ALENCON</li>\n",
      "</ul>\n",
      "</h1>\n",
      "<div class=\"mention\">Dans la liste ci-dessous, ne figurent que les professionnels de santé qui exercent une activité libérale.</div>\n",
      "</div>\n",
      "<div class=\"carte\"></div>\n",
      "<div class=\"clear\"></div>\n",
      "</div>\n",
      "</div>\n",
      "<div class=\"bandeau-pub\"></div>\n",
      "<div class=\"liste-criteres\">\n",
      "<div class=\"bloc-critere\">\n",
      "<div class=\"bloc-haut-critere\"></div>\n",
      "<div class=\"bloc-bas-critere\"></div>\n",
      "</div>\n",
      "<!-- facette centre des sante -->\n",
      "</div>\n",
      "<div class=\"resultats\">\n",
      "<div id=\"hautcadre\"></div>\n",
      "<div id=\"centrecadre\">\n",
      "<div class=\"tri\"></div>\n",
      "<div class=\"pagination\">\n",
      "<form action=\"/trouver-un-professionnel-de-sante/chirurgiens-dentistes/61-orne-alencon\" method=\"post\">\n",
      "\n",
      "\t\t\n",
      "\t\tPage <input name=\"pageCible\" type=\"text\" value=\"1\"/> sur 2\n",
      "\t\t\t\t\t<a href=\"/trouver-un-professionnel-de-sante/chirurgiens-dentistes/61-orne-alencon/page-2\" rel=\"next\">\n",
      "<img alt=\"Page suivante\" src=\"/resources_ver/20220302095149/images/pagination_next.png\"/>\n",
      "</a>\n",
      "<a href=\"/trouver-un-professionnel-de-sante/chirurgiens-dentistes/61-orne-alencon/page-2\" rel=\"last\">\n",
      "<img alt=\" - Aller à la dernière page\" src=\"/resources_ver/20220302095149/images/pagination_last.png\"/>\n",
      "</a>\n",
      "</form>\n",
      "</div> <div class=\"clear\"></div>\n",
      "<div class=\"liste-professionnel seo-bloc-page\">\n",
      "<div class=\"item-professionnel\"><div class=\"item-professionnel-inner seo-bloc\"><span class=\"num\">1</span><div class=\"nom_pictos\"><h2 class=\"ignore-css\"><a href=\"/professionnels-de-sante/fiche-detaillee-rault-johann-BrMwlTI1OTK0\"><strong>RAULT</strong> JOHANN</a></h2><div class=\"clear\"></div></div><div class=\"clear\"></div><div class=\"elements\"><div class=\"item left specialite\">Chirurgien-dentiste</div><div class=\"item right\"></div><div class=\"clear\"></div><div class=\"item left\"></div><div class=\"item right convention\"></div><div class=\"clear\"></div><div class=\"item left adresse\">SELARL TOUT SOURIRE<br/>83 RUE DU GUE DE SORRE<br/>61000 ALENCON</div><div class=\"clear\"></div></div><div class=\"clear\"></div></div></div><div class=\"item-professionnel\"><div class=\"item-professionnel-inner seo-bloc\"><span class=\"num\">2</span><div class=\"nom_pictos\"><h2 class=\"ignore-css\"><a href=\"/professionnels-de-sante/fiche-detaillee-bailleul-olivier-BrMwkjIyNzG7\"><strong>BAILLEUL</strong> OLIVIER</a></h2><div class=\"clear\"></div></div><div class=\"clear\"></div><div class=\"elements\"><div class=\"item left specialite\">Chirurgien-dentiste</div><div class=\"item right\"></div><div class=\"clear\"></div><div class=\"item left\"></div><div class=\"item right convention\"></div><div class=\"clear\"></div><div class=\"item left adresse\">CABINET DU DR BAILLEUL<br/>2 RUE LOUIS ROUSIER<br/>61000 ALENCON</div><div class=\"clear\"></div></div><div class=\"clear\"></div></div></div><div class=\"item-professionnel\"><div class=\"item-professionnel-inner seo-bloc\"><span class=\"num\">3</span><div class=\"nom_pictos\"><h2 class=\"ignore-css\"><a href=\"/professionnels-de-sante/fiche-detaillee-de-maneville-xavier-BrMwlTI1MjC7\"><strong>DE MANEVILLE</strong> XAVIER</a></h2><div class=\"clear\"></div></div><div class=\"clear\"></div><div class=\"elements\"><div class=\"item left specialite\">Chirurgien-dentiste</div><div class=\"item right\"></div><div class=\"clear\"></div><div class=\"item left\"></div><div class=\"item right convention\"></div><div class=\"clear\"></div><div class=\"item left adresse\">KAROLUS<br/>2 RUE LOUIS ROUSIER<br/>61000 ALENCON</div><div class=\"clear\"></div></div><div class=\"clear\"></div></div></div><div class=\"item-professionnel\"><div class=\"item-professionnel-inner seo-bloc\"><span class=\"num\">4</span><div class=\"nom_pictos\"><h2 class=\"ignore-css\"><a href=\"/professionnels-de-sante/fiche-detaillee-meurisse-helene-BrMwkjIwMjK2\"><strong>MEURISSE</strong> HELENE</a></h2><div class=\"clear\"></div></div><div class=\"clear\"></div><div class=\"elements\"><div class=\"item left specialite\">Chirurgien-dentiste</div><div class=\"item right\"></div><div class=\"clear\"></div><div class=\"item left\"></div><div class=\"item right convention\"></div><div class=\"clear\"></div><div class=\"item left adresse\">CABINET DU DR MEURISSE<br/>111 AVENUE DE COURTEILLE<br/>61000 ALENCON</div><div class=\"clear\"></div></div><div class=\"clear\"></div></div></div><div class=\"item-professionnel\"><div class=\"item-professionnel-inner seo-bloc\"><span class=\"num\">5</span><div class=\"nom_pictos\"><h2 class=\"ignore-css\"><a href=\"/professionnels-de-sante/fiche-detaillee-nedelea-lucian-BrMwkjIxMTe0\"><strong>NEDELEA</strong> LUCIAN</a></h2><div class=\"clear\"></div></div><div class=\"clear\"></div><div class=\"elements\"><div class=\"item left specialite\">Chirurgien-dentiste</div><div class=\"item right\"></div><div class=\"clear\"></div><div class=\"item left\"></div><div class=\"item right convention\"></div><div class=\"clear\"></div><div class=\"item left adresse\">SELARL DENTNED<br/>37 AVENUE DE QUAKENBRUCK<br/>61000 ALENCON</div><div class=\"clear\"></div></div><div class=\"clear\"></div></div></div><div class=\"item-professionnel\"><div class=\"item-professionnel-inner seo-bloc\"><span class=\"num\">6</span><div class=\"nom_pictos centre-sante\"><h2><a href=\"/etablissements-de-soins/fiche-detaillee-centre-de-sante-dentaire-alencon-BrM0lToxMzu1\">CENTRE DE SANTE DENTAIRE ALENCON</a></h2><div class=\"clear\"></div></div><div class=\"clear\"></div><div class=\"fake_pictos\"></div><div class=\"clear\"></div><div class=\"elements\"><div class=\"item left adresse\">CENTRE DE SANTE DENTAIRE ALENCON<br/>26 RUE ODOLANT DESNOS<br/>61000 ALENCON</div><div class=\"item right\"></div><div class=\"clear\"></div><div class=\"item left\"></div><div class=\"clear\"></div></div><div class=\"clear\"></div></div></div><div class=\"item-professionnel\"><div class=\"item-professionnel-inner seo-bloc\"><span class=\"num\">7</span><div class=\"nom_pictos\"><h2 class=\"ignore-css\"><a href=\"/professionnels-de-sante/fiche-detaillee-beaufrere-carre-laetitia-BrMwkjI1NjSz\"><strong>BEAUFRERE CARRE</strong> LAETITIA</a></h2><div class=\"clear\"></div></div><div class=\"clear\"></div><div class=\"elements\"><div class=\"item left specialite\">Chirurgien-dentiste</div><div class=\"item right\"></div><div class=\"clear\"></div><div class=\"item left\"></div><div class=\"item right convention\"></div><div class=\"clear\"></div><div class=\"item left adresse\">CABINET DU DR BEAUFRERE CARRE<br/>20 RUE DU BOULEVARD<br/>61000 ALENCON</div><div class=\"clear\"></div></div><div class=\"clear\"></div></div></div><div class=\"item-professionnel\"><div class=\"item-professionnel-inner seo-bloc\"><span class=\"num\">8</span><div class=\"nom_pictos\"><h2 class=\"ignore-css\"><a href=\"/professionnels-de-sante/fiche-detaillee-blottiere-aurelie-BrMwlDM0NDe6\"><strong>BLOTTIERE</strong> AURELIE</a></h2><div class=\"clear\"></div></div><div class=\"clear\"></div><div class=\"elements\"><div class=\"item left specialite\">Chirurgien-dentiste</div><div class=\"item right\"></div><div class=\"clear\"></div><div class=\"item left\"></div><div class=\"item right convention\"></div><div class=\"clear\"></div><div class=\"item left adresse\">CABINET DU DR BLOTTIERE<br/>7 RUE MAURICE RAVEL<br/>61000 ALENCON</div><div class=\"clear\"></div></div><div class=\"clear\"></div></div></div><div class=\"item-professionnel\"><div class=\"item-professionnel-inner seo-bloc\"><span class=\"num\">9</span><div class=\"nom_pictos\"><h2 class=\"ignore-css\"><a href=\"/professionnels-de-sante/fiche-detaillee-ursule-anthony-BrMwkjI0Mzu3\"><strong>URSULE</strong> ANTHONY</a></h2><div class=\"clear\"></div></div><div class=\"clear\"></div><div class=\"elements\"><div class=\"item left specialite\">Chirurgien-dentiste</div><div class=\"item right\"></div><div class=\"clear\"></div><div class=\"item left\"></div><div class=\"item right convention\"></div><div class=\"clear\"></div><div class=\"item left adresse\">CABINET DU DR URSULE<br/>9 COURS GEORGES CLEMENCEAU<br/>61000 ALENCON</div><div class=\"clear\"></div></div><div class=\"clear\"></div></div></div><div class=\"item-professionnel\"><div class=\"item-professionnel-inner seo-bloc\"><span class=\"num\">10</span><div class=\"nom_pictos\"><h2 class=\"ignore-css\"><a href=\"/professionnels-de-sante/fiche-detaillee-collet-claire-BrMwkjIwMTK3\"><strong>COLLET</strong> CLAIRE</a></h2><div class=\"clear\"></div></div><div class=\"clear\"></div><div class=\"elements\"><div class=\"item left specialite\">Chirurgien-dentiste</div><div class=\"item right\"></div><div class=\"clear\"></div><div class=\"item left\"></div><div class=\"item right convention\"></div><div class=\"clear\"></div><div class=\"item left adresse\">CABINET DU DR COLLET<br/>20 RUE DU LIEUTENANT TIROUFLET<br/>61000 ALENCON</div><div class=\"clear\"></div></div><div class=\"clear\"></div></div></div><div class=\"item-professionnel\"><div class=\"item-professionnel-inner seo-bloc\"><span class=\"num\">11</span><div class=\"nom_pictos\"><h2 class=\"ignore-css\"><a href=\"/professionnels-de-sante/fiche-detaillee-tegally-cabaret-nooroulbassar-BrMwlTM0MTG2\"><strong>TEGALLY CABARET</strong> NOOROULBASSAR</a></h2><div class=\"clear\"></div></div><div class=\"clear\"></div><div class=\"elements\"><div class=\"item left specialite\">Chirurgien-dentiste</div><div class=\"item right\"></div><div class=\"clear\"></div><div class=\"item left\"></div><div class=\"item right convention\"></div><div class=\"clear\"></div><div class=\"item left adresse\">CABARET NOOR DENTAIRE<br/>7 RUE PIERRE JOUANNY<br/>61000 ALENCON</div><div class=\"clear\"></div></div><div class=\"clear\"></div></div></div><div class=\"item-professionnel\"><div class=\"item-professionnel-inner seo-bloc\"><span class=\"num\">12</span><div class=\"nom_pictos\"><h2 class=\"ignore-css\"><a href=\"/professionnels-de-sante/fiche-detaillee-steiger-antoine-BrMwmjIzMDu6\"><strong>STEIGER</strong> ANTOINE</a></h2><div class=\"clear\"></div></div><div class=\"clear\"></div><div class=\"elements\"><div class=\"item left specialite\">Chirurgien-dentiste</div><div class=\"item right\"></div><div class=\"clear\"></div><div class=\"item left\"></div><div class=\"item right convention\"></div><div class=\"clear\"></div><div class=\"item left adresse\">CABINET DU DR LAVALLEY<br/>3 RUE DU VAL FLEURY<br/>61000 ALENCON</div><div class=\"clear\"></div></div><div class=\"clear\"></div></div></div><div class=\"item-professionnel\"><div class=\"item-professionnel-inner seo-bloc\"><span class=\"num\">13</span><div class=\"nom_pictos\"><h2 class=\"ignore-css\"><a href=\"/professionnels-de-sante/fiche-detaillee-coroller-julie-BrMwkjI0MTq7\"><strong>COROLLER</strong> JULIE</a></h2><div class=\"clear\"></div></div><div class=\"clear\"></div><div class=\"elements\"><div class=\"item left specialite\">Chirurgien-dentiste</div><div class=\"item right\"></div><div class=\"clear\"></div><div class=\"item left\"></div><div class=\"item right convention\"></div><div class=\"clear\"></div><div class=\"item left adresse\">CABINET DU DR COROLLER<br/>3 RUE DU VAL FLEURI<br/>61000 ALENCON</div><div class=\"clear\"></div></div><div class=\"clear\"></div></div></div><div class=\"item-professionnel\"><div class=\"item-professionnel-inner seo-bloc\"><span class=\"num\">14</span><div class=\"nom_pictos\"><h2 class=\"ignore-css\"><a href=\"/professionnels-de-sante/fiche-detaillee-bontidean-gabriela-BrMwlTI0NDO0\"><strong>BONTIDEAN</strong> GABRIELA</a></h2><div class=\"clear\"></div></div><div class=\"clear\"></div><div class=\"elements\"><div class=\"item left specialite\">Chirurgien-dentiste</div><div class=\"item right\"></div><div class=\"clear\"></div><div class=\"item left\"></div><div class=\"item right convention\"></div><div class=\"clear\"></div><div class=\"item left adresse\">SELARL B AND V<br/>7 RUE MAL JM LATTRE DE TASSIGNY<br/>61000 ALENCON</div><div class=\"clear\"></div></div><div class=\"clear\"></div></div></div><div class=\"item-professionnel\"><div class=\"item-professionnel-inner seo-bloc\"><span class=\"num\">15</span><div class=\"nom_pictos\"><h2 class=\"ignore-css\"><a href=\"/professionnels-de-sante/fiche-detaillee-steiger-antoine-BrMwkjIzMDu3\"><strong>STEIGER</strong> ANTOINE</a></h2><div class=\"clear\"></div></div><div class=\"clear\"></div><div class=\"elements\"><div class=\"item left specialite\">Chirurgien-dentiste</div><div class=\"item right\"></div><div class=\"clear\"></div><div class=\"item left\"></div><div class=\"item right convention\"></div><div class=\"clear\"></div><div class=\"item left adresse\">CABINET DU DR COROLLER<br/>3 RUE DU VAL FLEURY<br/>61000 ALENCON</div><div class=\"clear\"></div></div><div class=\"clear\"></div></div></div><div class=\"item-professionnel\"><div class=\"item-professionnel-inner seo-bloc\"><span class=\"num\">16</span><div class=\"nom_pictos\"><h2 class=\"ignore-css\"><a href=\"/professionnels-de-sante/fiche-detaillee-lavalley-stephane-BrMwkjI1NjW7\"><strong>LAVALLEY</strong> STEPHANE</a></h2><div class=\"clear\"></div></div><div class=\"clear\"></div><div class=\"elements\"><div class=\"item left specialite\">Chirurgien-dentiste</div><div class=\"item right\"></div><div class=\"clear\"></div><div class=\"item left\"></div><div class=\"item right convention\"></div><div class=\"clear\"></div><div class=\"item left adresse\">CABINET DU DR LAVALLEY<br/>3 RUE DU VAL FLEURI<br/>61000 ALENCON</div><div class=\"clear\"></div></div><div class=\"clear\"></div></div></div><div class=\"item-professionnel\"><div class=\"item-professionnel-inner seo-bloc\"><span class=\"num\">17</span><div class=\"nom_pictos\"><h2 class=\"ignore-css\"><a href=\"/professionnels-de-sante/fiche-detaillee-le-blanc-caroline-BrMwkjI0NDC7\"><strong>LE BLANC</strong> CAROLINE</a></h2><div class=\"clear\"></div></div><div class=\"clear\"></div><div class=\"elements\"><div class=\"item left specialite\">Chirurgien-dentiste</div><div class=\"item right\"></div><div class=\"clear\"></div><div class=\"item left\"></div><div class=\"item right convention\"></div><div class=\"clear\"></div><div class=\"item left adresse\">CABINET DU DR LE BLANC<br/>9 COURS GEORGES CLEMENCEAU<br/>61000 ALENCON</div><div class=\"clear\"></div></div><div class=\"clear\"></div></div></div><div class=\"item-professionnel\"><div class=\"item-professionnel-inner seo-bloc\"><span class=\"num\">18</span><div class=\"nom_pictos\"><h2 class=\"ignore-css\"><a href=\"/professionnels-de-sante/fiche-detaillee-ciglenean-adelina-BrMwkjI0NDKx\"><strong>CIGLENEAN</strong> ADELINA</a></h2><div class=\"clear\"></div></div><div class=\"clear\"></div><div class=\"elements\"><div class=\"item left specialite\">Chirurgien-dentiste</div><div class=\"item right\"></div><div class=\"clear\"></div><div class=\"item left\"></div><div class=\"item right convention\"></div><div class=\"clear\"></div><div class=\"item left adresse\">SELARL ADI<br/>1 RUE JACQUES CONTE<br/>61000 ALENCON</div><div class=\"clear\"></div></div><div class=\"clear\"></div></div></div><div class=\"item-professionnel\"><div class=\"item-professionnel-inner seo-bloc\"><span class=\"num\">19</span><div class=\"nom_pictos\"><h2 class=\"ignore-css\"><a href=\"/professionnels-de-sante/fiche-detaillee-de-maneville-isabelle-BrMwkjI1MjWx\"><strong>DE MANEVILLE</strong> ISABELLE</a></h2><div class=\"clear\"></div></div><div class=\"clear\"></div><div class=\"elements\"><div class=\"item left specialite\">Chirurgien-dentiste</div><div class=\"item right\"></div><div class=\"clear\"></div><div class=\"item left\"></div><div class=\"item right convention\"></div><div class=\"clear\"></div><div class=\"item left adresse\">CABINET DU DR DE MANEVILLE<br/>CABINET DR DE MANEVILLE<br/>20 RUE DU BOULEVARD<br/>61000 ALENCON</div><div class=\"clear\"></div></div><div class=\"clear\"></div></div></div><div class=\"item-professionnel\"><div class=\"item-professionnel-inner seo-bloc\"><span class=\"num\">20</span><div class=\"nom_pictos\"><h2 class=\"ignore-css\"><a href=\"/professionnels-de-sante/fiche-detaillee-moliere-pauline-BrMwkjIwODS3\"><strong>MOLIERE</strong> PAULINE</a></h2><div class=\"clear\"></div></div><div class=\"clear\"></div><div class=\"elements\"><div class=\"item left specialite\">Chirurgien-dentiste</div><div class=\"item right\"></div><div class=\"clear\"></div><div class=\"item left\"></div><div class=\"item right convention\"></div><div class=\"clear\"></div><div class=\"item left adresse\">CABINET DU DR BLOTTIERE<br/>7 RUE MAURICE RAVEL<br/>61000 ALENCON</div><div class=\"clear\"></div></div><div class=\"clear\"></div></div></div> </div>\n",
      "<div class=\"tri\"></div>\n",
      "<div class=\"pagination\">\n",
      "<form action=\"/trouver-un-professionnel-de-sante/chirurgiens-dentistes/61-orne-alencon\" method=\"post\">\n",
      "\n",
      "\t\t\n",
      "\t\tPage <input name=\"pageCible\" type=\"text\" value=\"1\"/> sur 2\n",
      "\t\t\t\t\t<a href=\"/trouver-un-professionnel-de-sante/chirurgiens-dentistes/61-orne-alencon/page-2\" rel=\"next\">\n",
      "<img alt=\"Page suivante\" src=\"/resources_ver/20220302095149/images/pagination_next.png\"/>\n",
      "</a>\n",
      "<a href=\"/trouver-un-professionnel-de-sante/chirurgiens-dentistes/61-orne-alencon/page-2\" rel=\"last\">\n",
      "<img alt=\" - Aller à la dernière page\" src=\"/resources_ver/20220302095149/images/pagination_last.png\"/>\n",
      "</a>\n",
      "</form>\n",
      "</div> <div class=\"clear\"></div>\n",
      "</div>\n",
      "<div id=\"bascadre\"></div>\n",
      "</div>\n",
      "<div class=\"clear\"></div>\n",
      "</div>\n",
      "<div id=\"footer\">\n",
      "<div class=\"mention\">L'utilisation du service offert sur ce site est soumise au respect des conditions d'utilisation. Toute reproduction intégrale ou partielle des contenus, données et informations disponibles est illicite et peut donner lieu à des sanctions.</div>\n",
      "<div class=\"liens\">\n",
      "<div class=\"titre\"></div>\n",
      "<div class=\"site\">\n",
      "<a href=\"https://www.ameli.fr\" target=\"_blank\"><img alt=\"ameli.fr\" src=\"/resources_ver/20220302095149/images/footer_ameli.svg\"/><br/><br/></a>\n",
      "<a href=\"https://www.ameli.fr\" target=\"_blank\">Le site de l’Assurance Maladie en ligne</a>\n",
      "</div>\n",
      "<div class=\"mise-a-dispo-donnees\">\n",
      "                Dans le cadre de la politique d'ouverture et de partage des\n",
      "                données publiques, les informations présentées sur ce site sont\n",
      "                désormais disponibles sur la plateforme data.gouv.fr. Elles sont\n",
      "                réutilisables sous réserve du respect des dispositions\n",
      "                réglementaires relatives à la protection des données\n",
      "                personnelles. Les demandes d’exercice de droits des personnes\n",
      "                concernées (accès, rectification, opposition le cas échéant)\n",
      "                sont à adresser au directeur du programme annuaire-santé, à la\n",
      "                Cnam, Direction de l'Offre de Soins, 50 Avenue du Professeur\n",
      "                André Lemierre, 75020 Paris.\n",
      "            </div>\n",
      "</div>\n",
      "<div class=\"clear\"></div>\n",
      "<div class=\"liens-transverse\">\n",
      "<a class=\"thickbox firstLink\" href=\"/trouver-un-professionnel-de-sante/\" title=\"Trouver un professionnel de santé\">Liste des professionnels de santé</a>\n",
      "<a class=\"thickbox\" href=\"/fenetre-modale-xhr/mentions_legales_et_cgu.html?width=700&amp;modal=true\" rel=\"nofollow\" title=\"Mentions légales et CGU\">Mentions légales et CGU</a>\n",
      "<a class=\"thickbox\" href=\"/fenetre-modale-xhr/protection_donnees_personnelles.html?width=700&amp;modal=true\" rel=\"nofollow\" title=\"Protection des données personnelles\">Protection des données personnelles</a>\n",
      "<a href=\"/\" onclick=\"tarteaucitron.userInterface.openPanel(); return false;\" title=\"Gestion des cookies\">Gestion des cookies</a>\n",
      "<a href=\"https://www.data.gouv.fr/fr/datasets/annuaire-sante-de-la-cnam/\" target=\"_blank\">data.gouv.fr</a>\n",
      "</div>\n",
      "</div>\n",
      "</div>, <div id=\"entete\">\n",
      "<a href=\"/\" title=\"\"><img alt=\"L'Assurance Maladie\" class=\"logoam\" src=\"/resources_ver/20220302095149/images/logo_annuaire_sante.svg\"/></a>\n",
      "<div class=\"acces\">\n",
      "<a href=\"https://assure.ameli.fr\" target=\"_blank\">Accéder au compte ameli</a>\n",
      "</div>\n",
      "</div>, <div class=\"acces\">\n",
      "<a href=\"https://assure.ameli.fr\" target=\"_blank\">Accéder au compte ameli</a>\n",
      "</div>, <div id=\"site_inner\">\n",
      "<div class=\"ariane\" id=\"filariane\">\n",
      "<p></p>\n",
      "</div>\n",
      "<div class=\"print-result impression\"></div>\n",
      "<div class=\"clear\"></div>\n",
      "<div class=\"recapitulatif\">\n",
      "<div class=\"recapitulatif-inner seo-bloc\">\n",
      "<div class=\"infos\">\n",
      "<div class=\"boutons\">\n",
      "</div>\n",
      "<div class=\"faux-titre-seo\">22 résultats correspondent à votre recherche</div>\n",
      "<h1 class=\"titre-seo\">\n",
      "<ul>\n",
      "<li>Profession : Chirurgiens-dentistes</li>\n",
      "<li>Lieu : 61/ALENCON</li>\n",
      "</ul>\n",
      "</h1>\n",
      "<div class=\"mention\">Dans la liste ci-dessous, ne figurent que les professionnels de santé qui exercent une activité libérale.</div>\n",
      "</div>\n",
      "<div class=\"carte\"></div>\n",
      "<div class=\"clear\"></div>\n",
      "</div>\n",
      "</div>\n",
      "<div class=\"bandeau-pub\"></div>\n",
      "<div class=\"liste-criteres\">\n",
      "<div class=\"bloc-critere\">\n",
      "<div class=\"bloc-haut-critere\"></div>\n",
      "<div class=\"bloc-bas-critere\"></div>\n",
      "</div>\n",
      "<!-- facette centre des sante -->\n",
      "</div>\n",
      "<div class=\"resultats\">\n",
      "<div id=\"hautcadre\"></div>\n",
      "<div id=\"centrecadre\">\n",
      "<div class=\"tri\"></div>\n",
      "<div class=\"pagination\">\n",
      "<form action=\"/trouver-un-professionnel-de-sante/chirurgiens-dentistes/61-orne-alencon\" method=\"post\">\n",
      "\n",
      "\t\t\n",
      "\t\tPage <input name=\"pageCible\" type=\"text\" value=\"1\"/> sur 2\n",
      "\t\t\t\t\t<a href=\"/trouver-un-professionnel-de-sante/chirurgiens-dentistes/61-orne-alencon/page-2\" rel=\"next\">\n",
      "<img alt=\"Page suivante\" src=\"/resources_ver/20220302095149/images/pagination_next.png\"/>\n",
      "</a>\n",
      "<a href=\"/trouver-un-professionnel-de-sante/chirurgiens-dentistes/61-orne-alencon/page-2\" rel=\"last\">\n",
      "<img alt=\" - Aller à la dernière page\" src=\"/resources_ver/20220302095149/images/pagination_last.png\"/>\n",
      "</a>\n",
      "</form>\n",
      "</div> <div class=\"clear\"></div>\n",
      "<div class=\"liste-professionnel seo-bloc-page\">\n",
      "<div class=\"item-professionnel\"><div class=\"item-professionnel-inner seo-bloc\"><span class=\"num\">1</span><div class=\"nom_pictos\"><h2 class=\"ignore-css\"><a href=\"/professionnels-de-sante/fiche-detaillee-rault-johann-BrMwlTI1OTK0\"><strong>RAULT</strong> JOHANN</a></h2><div class=\"clear\"></div></div><div class=\"clear\"></div><div class=\"elements\"><div class=\"item left specialite\">Chirurgien-dentiste</div><div class=\"item right\"></div><div class=\"clear\"></div><div class=\"item left\"></div><div class=\"item right convention\"></div><div class=\"clear\"></div><div class=\"item left adresse\">SELARL TOUT SOURIRE<br/>83 RUE DU GUE DE SORRE<br/>61000 ALENCON</div><div class=\"clear\"></div></div><div class=\"clear\"></div></div></div><div class=\"item-professionnel\"><div class=\"item-professionnel-inner seo-bloc\"><span class=\"num\">2</span><div class=\"nom_pictos\"><h2 class=\"ignore-css\"><a href=\"/professionnels-de-sante/fiche-detaillee-bailleul-olivier-BrMwkjIyNzG7\"><strong>BAILLEUL</strong> OLIVIER</a></h2><div class=\"clear\"></div></div><div class=\"clear\"></div><div class=\"elements\"><div class=\"item left specialite\">Chirurgien-dentiste</div><div class=\"item right\"></div><div class=\"clear\"></div><div class=\"item left\"></div><div class=\"item right convention\"></div><div class=\"clear\"></div><div class=\"item left adresse\">CABINET DU DR BAILLEUL<br/>2 RUE LOUIS ROUSIER<br/>61000 ALENCON</div><div class=\"clear\"></div></div><div class=\"clear\"></div></div></div><div class=\"item-professionnel\"><div class=\"item-professionnel-inner seo-bloc\"><span class=\"num\">3</span><div class=\"nom_pictos\"><h2 class=\"ignore-css\"><a href=\"/professionnels-de-sante/fiche-detaillee-de-maneville-xavier-BrMwlTI1MjC7\"><strong>DE MANEVILLE</strong> XAVIER</a></h2><div class=\"clear\"></div></div><div class=\"clear\"></div><div class=\"elements\"><div class=\"item left specialite\">Chirurgien-dentiste</div><div class=\"item right\"></div><div class=\"clear\"></div><div class=\"item left\"></div><div class=\"item right convention\"></div><div class=\"clear\"></div><div class=\"item left adresse\">KAROLUS<br/>2 RUE LOUIS ROUSIER<br/>61000 ALENCON</div><div class=\"clear\"></div></div><div class=\"clear\"></div></div></div><div class=\"item-professionnel\"><div class=\"item-professionnel-inner seo-bloc\"><span class=\"num\">4</span><div class=\"nom_pictos\"><h2 class=\"ignore-css\"><a href=\"/professionnels-de-sante/fiche-detaillee-meurisse-helene-BrMwkjIwMjK2\"><strong>MEURISSE</strong> HELENE</a></h2><div class=\"clear\"></div></div><div class=\"clear\"></div><div class=\"elements\"><div class=\"item left specialite\">Chirurgien-dentiste</div><div class=\"item right\"></div><div class=\"clear\"></div><div class=\"item left\"></div><div class=\"item right convention\"></div><div class=\"clear\"></div><div class=\"item left adresse\">CABINET DU DR MEURISSE<br/>111 AVENUE DE COURTEILLE<br/>61000 ALENCON</div><div class=\"clear\"></div></div><div class=\"clear\"></div></div></div><div class=\"item-professionnel\"><div class=\"item-professionnel-inner seo-bloc\"><span class=\"num\">5</span><div class=\"nom_pictos\"><h2 class=\"ignore-css\"><a href=\"/professionnels-de-sante/fiche-detaillee-nedelea-lucian-BrMwkjIxMTe0\"><strong>NEDELEA</strong> LUCIAN</a></h2><div class=\"clear\"></div></div><div class=\"clear\"></div><div class=\"elements\"><div class=\"item left specialite\">Chirurgien-dentiste</div><div class=\"item right\"></div><div class=\"clear\"></div><div class=\"item left\"></div><div class=\"item right convention\"></div><div class=\"clear\"></div><div class=\"item left adresse\">SELARL DENTNED<br/>37 AVENUE DE QUAKENBRUCK<br/>61000 ALENCON</div><div class=\"clear\"></div></div><div class=\"clear\"></div></div></div><div class=\"item-professionnel\"><div class=\"item-professionnel-inner seo-bloc\"><span class=\"num\">6</span><div class=\"nom_pictos centre-sante\"><h2><a href=\"/etablissements-de-soins/fiche-detaillee-centre-de-sante-dentaire-alencon-BrM0lToxMzu1\">CENTRE DE SANTE DENTAIRE ALENCON</a></h2><div class=\"clear\"></div></div><div class=\"clear\"></div><div class=\"fake_pictos\"></div><div class=\"clear\"></div><div class=\"elements\"><div class=\"item left adresse\">CENTRE DE SANTE DENTAIRE ALENCON<br/>26 RUE ODOLANT DESNOS<br/>61000 ALENCON</div><div class=\"item right\"></div><div class=\"clear\"></div><div class=\"item left\"></div><div class=\"clear\"></div></div><div class=\"clear\"></div></div></div><div class=\"item-professionnel\"><div class=\"item-professionnel-inner seo-bloc\"><span class=\"num\">7</span><div class=\"nom_pictos\"><h2 class=\"ignore-css\"><a href=\"/professionnels-de-sante/fiche-detaillee-beaufrere-carre-laetitia-BrMwkjI1NjSz\"><strong>BEAUFRERE CARRE</strong> LAETITIA</a></h2><div class=\"clear\"></div></div><div class=\"clear\"></div><div class=\"elements\"><div class=\"item left specialite\">Chirurgien-dentiste</div><div class=\"item right\"></div><div class=\"clear\"></div><div class=\"item left\"></div><div class=\"item right convention\"></div><div class=\"clear\"></div><div class=\"item left adresse\">CABINET DU DR BEAUFRERE CARRE<br/>20 RUE DU BOULEVARD<br/>61000 ALENCON</div><div class=\"clear\"></div></div><div class=\"clear\"></div></div></div><div class=\"item-professionnel\"><div class=\"item-professionnel-inner seo-bloc\"><span class=\"num\">8</span><div class=\"nom_pictos\"><h2 class=\"ignore-css\"><a href=\"/professionnels-de-sante/fiche-detaillee-blottiere-aurelie-BrMwlDM0NDe6\"><strong>BLOTTIERE</strong> AURELIE</a></h2><div class=\"clear\"></div></div><div class=\"clear\"></div><div class=\"elements\"><div class=\"item left specialite\">Chirurgien-dentiste</div><div class=\"item right\"></div><div class=\"clear\"></div><div class=\"item left\"></div><div class=\"item right convention\"></div><div class=\"clear\"></div><div class=\"item left adresse\">CABINET DU DR BLOTTIERE<br/>7 RUE MAURICE RAVEL<br/>61000 ALENCON</div><div class=\"clear\"></div></div><div class=\"clear\"></div></div></div><div class=\"item-professionnel\"><div class=\"item-professionnel-inner seo-bloc\"><span class=\"num\">9</span><div class=\"nom_pictos\"><h2 class=\"ignore-css\"><a href=\"/professionnels-de-sante/fiche-detaillee-ursule-anthony-BrMwkjI0Mzu3\"><strong>URSULE</strong> ANTHONY</a></h2><div class=\"clear\"></div></div><div class=\"clear\"></div><div class=\"elements\"><div class=\"item left specialite\">Chirurgien-dentiste</div><div class=\"item right\"></div><div class=\"clear\"></div><div class=\"item left\"></div><div class=\"item right convention\"></div><div class=\"clear\"></div><div class=\"item left adresse\">CABINET DU DR URSULE<br/>9 COURS GEORGES CLEMENCEAU<br/>61000 ALENCON</div><div class=\"clear\"></div></div><div class=\"clear\"></div></div></div><div class=\"item-professionnel\"><div class=\"item-professionnel-inner seo-bloc\"><span class=\"num\">10</span><div class=\"nom_pictos\"><h2 class=\"ignore-css\"><a href=\"/professionnels-de-sante/fiche-detaillee-collet-claire-BrMwkjIwMTK3\"><strong>COLLET</strong> CLAIRE</a></h2><div class=\"clear\"></div></div><div class=\"clear\"></div><div class=\"elements\"><div class=\"item left specialite\">Chirurgien-dentiste</div><div class=\"item right\"></div><div class=\"clear\"></div><div class=\"item left\"></div><div class=\"item right convention\"></div><div class=\"clear\"></div><div class=\"item left adresse\">CABINET DU DR COLLET<br/>20 RUE DU LIEUTENANT TIROUFLET<br/>61000 ALENCON</div><div class=\"clear\"></div></div><div class=\"clear\"></div></div></div><div class=\"item-professionnel\"><div class=\"item-professionnel-inner seo-bloc\"><span class=\"num\">11</span><div class=\"nom_pictos\"><h2 class=\"ignore-css\"><a href=\"/professionnels-de-sante/fiche-detaillee-tegally-cabaret-nooroulbassar-BrMwlTM0MTG2\"><strong>TEGALLY CABARET</strong> NOOROULBASSAR</a></h2><div class=\"clear\"></div></div><div class=\"clear\"></div><div class=\"elements\"><div class=\"item left specialite\">Chirurgien-dentiste</div><div class=\"item right\"></div><div class=\"clear\"></div><div class=\"item left\"></div><div class=\"item right convention\"></div><div class=\"clear\"></div><div class=\"item left adresse\">CABARET NOOR DENTAIRE<br/>7 RUE PIERRE JOUANNY<br/>61000 ALENCON</div><div class=\"clear\"></div></div><div class=\"clear\"></div></div></div><div class=\"item-professionnel\"><div class=\"item-professionnel-inner seo-bloc\"><span class=\"num\">12</span><div class=\"nom_pictos\"><h2 class=\"ignore-css\"><a href=\"/professionnels-de-sante/fiche-detaillee-steiger-antoine-BrMwmjIzMDu6\"><strong>STEIGER</strong> ANTOINE</a></h2><div class=\"clear\"></div></div><div class=\"clear\"></div><div class=\"elements\"><div class=\"item left specialite\">Chirurgien-dentiste</div><div class=\"item right\"></div><div class=\"clear\"></div><div class=\"item left\"></div><div class=\"item right convention\"></div><div class=\"clear\"></div><div class=\"item left adresse\">CABINET DU DR LAVALLEY<br/>3 RUE DU VAL FLEURY<br/>61000 ALENCON</div><div class=\"clear\"></div></div><div class=\"clear\"></div></div></div><div class=\"item-professionnel\"><div class=\"item-professionnel-inner seo-bloc\"><span class=\"num\">13</span><div class=\"nom_pictos\"><h2 class=\"ignore-css\"><a href=\"/professionnels-de-sante/fiche-detaillee-coroller-julie-BrMwkjI0MTq7\"><strong>COROLLER</strong> JULIE</a></h2><div class=\"clear\"></div></div><div class=\"clear\"></div><div class=\"elements\"><div class=\"item left specialite\">Chirurgien-dentiste</div><div class=\"item right\"></div><div class=\"clear\"></div><div class=\"item left\"></div><div class=\"item right convention\"></div><div class=\"clear\"></div><div class=\"item left adresse\">CABINET DU DR COROLLER<br/>3 RUE DU VAL FLEURI<br/>61000 ALENCON</div><div class=\"clear\"></div></div><div class=\"clear\"></div></div></div><div class=\"item-professionnel\"><div class=\"item-professionnel-inner seo-bloc\"><span class=\"num\">14</span><div class=\"nom_pictos\"><h2 class=\"ignore-css\"><a href=\"/professionnels-de-sante/fiche-detaillee-bontidean-gabriela-BrMwlTI0NDO0\"><strong>BONTIDEAN</strong> GABRIELA</a></h2><div class=\"clear\"></div></div><div class=\"clear\"></div><div class=\"elements\"><div class=\"item left specialite\">Chirurgien-dentiste</div><div class=\"item right\"></div><div class=\"clear\"></div><div class=\"item left\"></div><div class=\"item right convention\"></div><div class=\"clear\"></div><div class=\"item left adresse\">SELARL B AND V<br/>7 RUE MAL JM LATTRE DE TASSIGNY<br/>61000 ALENCON</div><div class=\"clear\"></div></div><div class=\"clear\"></div></div></div><div class=\"item-professionnel\"><div class=\"item-professionnel-inner seo-bloc\"><span class=\"num\">15</span><div class=\"nom_pictos\"><h2 class=\"ignore-css\"><a href=\"/professionnels-de-sante/fiche-detaillee-steiger-antoine-BrMwkjIzMDu3\"><strong>STEIGER</strong> ANTOINE</a></h2><div class=\"clear\"></div></div><div class=\"clear\"></div><div class=\"elements\"><div class=\"item left specialite\">Chirurgien-dentiste</div><div class=\"item right\"></div><div class=\"clear\"></div><div class=\"item left\"></div><div class=\"item right convention\"></div><div class=\"clear\"></div><div class=\"item left adresse\">CABINET DU DR COROLLER<br/>3 RUE DU VAL FLEURY<br/>61000 ALENCON</div><div class=\"clear\"></div></div><div class=\"clear\"></div></div></div><div class=\"item-professionnel\"><div class=\"item-professionnel-inner seo-bloc\"><span class=\"num\">16</span><div class=\"nom_pictos\"><h2 class=\"ignore-css\"><a href=\"/professionnels-de-sante/fiche-detaillee-lavalley-stephane-BrMwkjI1NjW7\"><strong>LAVALLEY</strong> STEPHANE</a></h2><div class=\"clear\"></div></div><div class=\"clear\"></div><div class=\"elements\"><div class=\"item left specialite\">Chirurgien-dentiste</div><div class=\"item right\"></div><div class=\"clear\"></div><div class=\"item left\"></div><div class=\"item right convention\"></div><div class=\"clear\"></div><div class=\"item left adresse\">CABINET DU DR LAVALLEY<br/>3 RUE DU VAL FLEURI<br/>61000 ALENCON</div><div class=\"clear\"></div></div><div class=\"clear\"></div></div></div><div class=\"item-professionnel\"><div class=\"item-professionnel-inner seo-bloc\"><span class=\"num\">17</span><div class=\"nom_pictos\"><h2 class=\"ignore-css\"><a href=\"/professionnels-de-sante/fiche-detaillee-le-blanc-caroline-BrMwkjI0NDC7\"><strong>LE BLANC</strong> CAROLINE</a></h2><div class=\"clear\"></div></div><div class=\"clear\"></div><div class=\"elements\"><div class=\"item left specialite\">Chirurgien-dentiste</div><div class=\"item right\"></div><div class=\"clear\"></div><div class=\"item left\"></div><div class=\"item right convention\"></div><div class=\"clear\"></div><div class=\"item left adresse\">CABINET DU DR LE BLANC<br/>9 COURS GEORGES CLEMENCEAU<br/>61000 ALENCON</div><div class=\"clear\"></div></div><div class=\"clear\"></div></div></div><div class=\"item-professionnel\"><div class=\"item-professionnel-inner seo-bloc\"><span class=\"num\">18</span><div class=\"nom_pictos\"><h2 class=\"ignore-css\"><a href=\"/professionnels-de-sante/fiche-detaillee-ciglenean-adelina-BrMwkjI0NDKx\"><strong>CIGLENEAN</strong> ADELINA</a></h2><div class=\"clear\"></div></div><div class=\"clear\"></div><div class=\"elements\"><div class=\"item left specialite\">Chirurgien-dentiste</div><div class=\"item right\"></div><div class=\"clear\"></div><div class=\"item left\"></div><div class=\"item right convention\"></div><div class=\"clear\"></div><div class=\"item left adresse\">SELARL ADI<br/>1 RUE JACQUES CONTE<br/>61000 ALENCON</div><div class=\"clear\"></div></div><div class=\"clear\"></div></div></div><div class=\"item-professionnel\"><div class=\"item-professionnel-inner seo-bloc\"><span class=\"num\">19</span><div class=\"nom_pictos\"><h2 class=\"ignore-css\"><a href=\"/professionnels-de-sante/fiche-detaillee-de-maneville-isabelle-BrMwkjI1MjWx\"><strong>DE MANEVILLE</strong> ISABELLE</a></h2><div class=\"clear\"></div></div><div class=\"clear\"></div><div class=\"elements\"><div class=\"item left specialite\">Chirurgien-dentiste</div><div class=\"item right\"></div><div class=\"clear\"></div><div class=\"item left\"></div><div class=\"item right convention\"></div><div class=\"clear\"></div><div class=\"item left adresse\">CABINET DU DR DE MANEVILLE<br/>CABINET DR DE MANEVILLE<br/>20 RUE DU BOULEVARD<br/>61000 ALENCON</div><div class=\"clear\"></div></div><div class=\"clear\"></div></div></div><div class=\"item-professionnel\"><div class=\"item-professionnel-inner seo-bloc\"><span class=\"num\">20</span><div class=\"nom_pictos\"><h2 class=\"ignore-css\"><a href=\"/professionnels-de-sante/fiche-detaillee-moliere-pauline-BrMwkjIwODS3\"><strong>MOLIERE</strong> PAULINE</a></h2><div class=\"clear\"></div></div><div class=\"clear\"></div><div class=\"elements\"><div class=\"item left specialite\">Chirurgien-dentiste</div><div class=\"item right\"></div><div class=\"clear\"></div><div class=\"item left\"></div><div class=\"item right convention\"></div><div class=\"clear\"></div><div class=\"item left adresse\">CABINET DU DR BLOTTIERE<br/>7 RUE MAURICE RAVEL<br/>61000 ALENCON</div><div class=\"clear\"></div></div><div class=\"clear\"></div></div></div> </div>\n",
      "<div class=\"tri\"></div>\n",
      "<div class=\"pagination\">\n",
      "<form action=\"/trouver-un-professionnel-de-sante/chirurgiens-dentistes/61-orne-alencon\" method=\"post\">\n",
      "\n",
      "\t\t\n",
      "\t\tPage <input name=\"pageCible\" type=\"text\" value=\"1\"/> sur 2\n",
      "\t\t\t\t\t<a href=\"/trouver-un-professionnel-de-sante/chirurgiens-dentistes/61-orne-alencon/page-2\" rel=\"next\">\n",
      "<img alt=\"Page suivante\" src=\"/resources_ver/20220302095149/images/pagination_next.png\"/>\n",
      "</a>\n",
      "<a href=\"/trouver-un-professionnel-de-sante/chirurgiens-dentistes/61-orne-alencon/page-2\" rel=\"last\">\n",
      "<img alt=\" - Aller à la dernière page\" src=\"/resources_ver/20220302095149/images/pagination_last.png\"/>\n",
      "</a>\n",
      "</form>\n",
      "</div> <div class=\"clear\"></div>\n",
      "</div>\n",
      "<div id=\"bascadre\"></div>\n",
      "</div>\n",
      "<div class=\"clear\"></div>\n",
      "</div>, <div class=\"ariane\" id=\"filariane\">\n",
      "<p></p>\n",
      "</div>, <div class=\"print-result impression\"></div>, <div class=\"clear\"></div>, <div class=\"recapitulatif\">\n",
      "<div class=\"recapitulatif-inner seo-bloc\">\n",
      "<div class=\"infos\">\n",
      "<div class=\"boutons\">\n",
      "</div>\n",
      "<div class=\"faux-titre-seo\">22 résultats correspondent à votre recherche</div>\n",
      "<h1 class=\"titre-seo\">\n",
      "<ul>\n",
      "<li>Profession : Chirurgiens-dentistes</li>\n",
      "<li>Lieu : 61/ALENCON</li>\n",
      "</ul>\n",
      "</h1>\n",
      "<div class=\"mention\">Dans la liste ci-dessous, ne figurent que les professionnels de santé qui exercent une activité libérale.</div>\n",
      "</div>\n",
      "<div class=\"carte\"></div>\n",
      "<div class=\"clear\"></div>\n",
      "</div>\n",
      "</div>, <div class=\"recapitulatif-inner seo-bloc\">\n",
      "<div class=\"infos\">\n",
      "<div class=\"boutons\">\n",
      "</div>\n",
      "<div class=\"faux-titre-seo\">22 résultats correspondent à votre recherche</div>\n",
      "<h1 class=\"titre-seo\">\n",
      "<ul>\n",
      "<li>Profession : Chirurgiens-dentistes</li>\n",
      "<li>Lieu : 61/ALENCON</li>\n",
      "</ul>\n",
      "</h1>\n",
      "<div class=\"mention\">Dans la liste ci-dessous, ne figurent que les professionnels de santé qui exercent une activité libérale.</div>\n",
      "</div>\n",
      "<div class=\"carte\"></div>\n",
      "<div class=\"clear\"></div>\n",
      "</div>, <div class=\"infos\">\n",
      "<div class=\"boutons\">\n",
      "</div>\n",
      "<div class=\"faux-titre-seo\">22 résultats correspondent à votre recherche</div>\n",
      "<h1 class=\"titre-seo\">\n",
      "<ul>\n",
      "<li>Profession : Chirurgiens-dentistes</li>\n",
      "<li>Lieu : 61/ALENCON</li>\n",
      "</ul>\n",
      "</h1>\n",
      "<div class=\"mention\">Dans la liste ci-dessous, ne figurent que les professionnels de santé qui exercent une activité libérale.</div>\n",
      "</div>, <div class=\"boutons\">\n",
      "</div>, <div class=\"faux-titre-seo\">22 résultats correspondent à votre recherche</div>, <div class=\"mention\">Dans la liste ci-dessous, ne figurent que les professionnels de santé qui exercent une activité libérale.</div>, <div class=\"carte\"></div>, <div class=\"clear\"></div>, <div class=\"bandeau-pub\"></div>, <div class=\"liste-criteres\">\n",
      "<div class=\"bloc-critere\">\n",
      "<div class=\"bloc-haut-critere\"></div>\n",
      "<div class=\"bloc-bas-critere\"></div>\n",
      "</div>\n",
      "<!-- facette centre des sante -->\n",
      "</div>, <div class=\"bloc-critere\">\n",
      "<div class=\"bloc-haut-critere\"></div>\n",
      "<div class=\"bloc-bas-critere\"></div>\n",
      "</div>, <div class=\"bloc-haut-critere\"></div>, <div class=\"bloc-bas-critere\"></div>, <div class=\"resultats\">\n",
      "<div id=\"hautcadre\"></div>\n",
      "<div id=\"centrecadre\">\n",
      "<div class=\"tri\"></div>\n",
      "<div class=\"pagination\">\n",
      "<form action=\"/trouver-un-professionnel-de-sante/chirurgiens-dentistes/61-orne-alencon\" method=\"post\">\n",
      "\n",
      "\t\t\n",
      "\t\tPage <input name=\"pageCible\" type=\"text\" value=\"1\"/> sur 2\n",
      "\t\t\t\t\t<a href=\"/trouver-un-professionnel-de-sante/chirurgiens-dentistes/61-orne-alencon/page-2\" rel=\"next\">\n",
      "<img alt=\"Page suivante\" src=\"/resources_ver/20220302095149/images/pagination_next.png\"/>\n",
      "</a>\n",
      "<a href=\"/trouver-un-professionnel-de-sante/chirurgiens-dentistes/61-orne-alencon/page-2\" rel=\"last\">\n",
      "<img alt=\" - Aller à la dernière page\" src=\"/resources_ver/20220302095149/images/pagination_last.png\"/>\n",
      "</a>\n",
      "</form>\n",
      "</div> <div class=\"clear\"></div>\n",
      "<div class=\"liste-professionnel seo-bloc-page\">\n",
      "<div class=\"item-professionnel\"><div class=\"item-professionnel-inner seo-bloc\"><span class=\"num\">1</span><div class=\"nom_pictos\"><h2 class=\"ignore-css\"><a href=\"/professionnels-de-sante/fiche-detaillee-rault-johann-BrMwlTI1OTK0\"><strong>RAULT</strong> JOHANN</a></h2><div class=\"clear\"></div></div><div class=\"clear\"></div><div class=\"elements\"><div class=\"item left specialite\">Chirurgien-dentiste</div><div class=\"item right\"></div><div class=\"clear\"></div><div class=\"item left\"></div><div class=\"item right convention\"></div><div class=\"clear\"></div><div class=\"item left adresse\">SELARL TOUT SOURIRE<br/>83 RUE DU GUE DE SORRE<br/>61000 ALENCON</div><div class=\"clear\"></div></div><div class=\"clear\"></div></div></div><div class=\"item-professionnel\"><div class=\"item-professionnel-inner seo-bloc\"><span class=\"num\">2</span><div class=\"nom_pictos\"><h2 class=\"ignore-css\"><a href=\"/professionnels-de-sante/fiche-detaillee-bailleul-olivier-BrMwkjIyNzG7\"><strong>BAILLEUL</strong> OLIVIER</a></h2><div class=\"clear\"></div></div><div class=\"clear\"></div><div class=\"elements\"><div class=\"item left specialite\">Chirurgien-dentiste</div><div class=\"item right\"></div><div class=\"clear\"></div><div class=\"item left\"></div><div class=\"item right convention\"></div><div class=\"clear\"></div><div class=\"item left adresse\">CABINET DU DR BAILLEUL<br/>2 RUE LOUIS ROUSIER<br/>61000 ALENCON</div><div class=\"clear\"></div></div><div class=\"clear\"></div></div></div><div class=\"item-professionnel\"><div class=\"item-professionnel-inner seo-bloc\"><span class=\"num\">3</span><div class=\"nom_pictos\"><h2 class=\"ignore-css\"><a href=\"/professionnels-de-sante/fiche-detaillee-de-maneville-xavier-BrMwlTI1MjC7\"><strong>DE MANEVILLE</strong> XAVIER</a></h2><div class=\"clear\"></div></div><div class=\"clear\"></div><div class=\"elements\"><div class=\"item left specialite\">Chirurgien-dentiste</div><div class=\"item right\"></div><div class=\"clear\"></div><div class=\"item left\"></div><div class=\"item right convention\"></div><div class=\"clear\"></div><div class=\"item left adresse\">KAROLUS<br/>2 RUE LOUIS ROUSIER<br/>61000 ALENCON</div><div class=\"clear\"></div></div><div class=\"clear\"></div></div></div><div class=\"item-professionnel\"><div class=\"item-professionnel-inner seo-bloc\"><span class=\"num\">4</span><div class=\"nom_pictos\"><h2 class=\"ignore-css\"><a href=\"/professionnels-de-sante/fiche-detaillee-meurisse-helene-BrMwkjIwMjK2\"><strong>MEURISSE</strong> HELENE</a></h2><div class=\"clear\"></div></div><div class=\"clear\"></div><div class=\"elements\"><div class=\"item left specialite\">Chirurgien-dentiste</div><div class=\"item right\"></div><div class=\"clear\"></div><div class=\"item left\"></div><div class=\"item right convention\"></div><div class=\"clear\"></div><div class=\"item left adresse\">CABINET DU DR MEURISSE<br/>111 AVENUE DE COURTEILLE<br/>61000 ALENCON</div><div class=\"clear\"></div></div><div class=\"clear\"></div></div></div><div class=\"item-professionnel\"><div class=\"item-professionnel-inner seo-bloc\"><span class=\"num\">5</span><div class=\"nom_pictos\"><h2 class=\"ignore-css\"><a href=\"/professionnels-de-sante/fiche-detaillee-nedelea-lucian-BrMwkjIxMTe0\"><strong>NEDELEA</strong> LUCIAN</a></h2><div class=\"clear\"></div></div><div class=\"clear\"></div><div class=\"elements\"><div class=\"item left specialite\">Chirurgien-dentiste</div><div class=\"item right\"></div><div class=\"clear\"></div><div class=\"item left\"></div><div class=\"item right convention\"></div><div class=\"clear\"></div><div class=\"item left adresse\">SELARL DENTNED<br/>37 AVENUE DE QUAKENBRUCK<br/>61000 ALENCON</div><div class=\"clear\"></div></div><div class=\"clear\"></div></div></div><div class=\"item-professionnel\"><div class=\"item-professionnel-inner seo-bloc\"><span class=\"num\">6</span><div class=\"nom_pictos centre-sante\"><h2><a href=\"/etablissements-de-soins/fiche-detaillee-centre-de-sante-dentaire-alencon-BrM0lToxMzu1\">CENTRE DE SANTE DENTAIRE ALENCON</a></h2><div class=\"clear\"></div></div><div class=\"clear\"></div><div class=\"fake_pictos\"></div><div class=\"clear\"></div><div class=\"elements\"><div class=\"item left adresse\">CENTRE DE SANTE DENTAIRE ALENCON<br/>26 RUE ODOLANT DESNOS<br/>61000 ALENCON</div><div class=\"item right\"></div><div class=\"clear\"></div><div class=\"item left\"></div><div class=\"clear\"></div></div><div class=\"clear\"></div></div></div><div class=\"item-professionnel\"><div class=\"item-professionnel-inner seo-bloc\"><span class=\"num\">7</span><div class=\"nom_pictos\"><h2 class=\"ignore-css\"><a href=\"/professionnels-de-sante/fiche-detaillee-beaufrere-carre-laetitia-BrMwkjI1NjSz\"><strong>BEAUFRERE CARRE</strong> LAETITIA</a></h2><div class=\"clear\"></div></div><div class=\"clear\"></div><div class=\"elements\"><div class=\"item left specialite\">Chirurgien-dentiste</div><div class=\"item right\"></div><div class=\"clear\"></div><div class=\"item left\"></div><div class=\"item right convention\"></div><div class=\"clear\"></div><div class=\"item left adresse\">CABINET DU DR BEAUFRERE CARRE<br/>20 RUE DU BOULEVARD<br/>61000 ALENCON</div><div class=\"clear\"></div></div><div class=\"clear\"></div></div></div><div class=\"item-professionnel\"><div class=\"item-professionnel-inner seo-bloc\"><span class=\"num\">8</span><div class=\"nom_pictos\"><h2 class=\"ignore-css\"><a href=\"/professionnels-de-sante/fiche-detaillee-blottiere-aurelie-BrMwlDM0NDe6\"><strong>BLOTTIERE</strong> AURELIE</a></h2><div class=\"clear\"></div></div><div class=\"clear\"></div><div class=\"elements\"><div class=\"item left specialite\">Chirurgien-dentiste</div><div class=\"item right\"></div><div class=\"clear\"></div><div class=\"item left\"></div><div class=\"item right convention\"></div><div class=\"clear\"></div><div class=\"item left adresse\">CABINET DU DR BLOTTIERE<br/>7 RUE MAURICE RAVEL<br/>61000 ALENCON</div><div class=\"clear\"></div></div><div class=\"clear\"></div></div></div><div class=\"item-professionnel\"><div class=\"item-professionnel-inner seo-bloc\"><span class=\"num\">9</span><div class=\"nom_pictos\"><h2 class=\"ignore-css\"><a href=\"/professionnels-de-sante/fiche-detaillee-ursule-anthony-BrMwkjI0Mzu3\"><strong>URSULE</strong> ANTHONY</a></h2><div class=\"clear\"></div></div><div class=\"clear\"></div><div class=\"elements\"><div class=\"item left specialite\">Chirurgien-dentiste</div><div class=\"item right\"></div><div class=\"clear\"></div><div class=\"item left\"></div><div class=\"item right convention\"></div><div class=\"clear\"></div><div class=\"item left adresse\">CABINET DU DR URSULE<br/>9 COURS GEORGES CLEMENCEAU<br/>61000 ALENCON</div><div class=\"clear\"></div></div><div class=\"clear\"></div></div></div><div class=\"item-professionnel\"><div class=\"item-professionnel-inner seo-bloc\"><span class=\"num\">10</span><div class=\"nom_pictos\"><h2 class=\"ignore-css\"><a href=\"/professionnels-de-sante/fiche-detaillee-collet-claire-BrMwkjIwMTK3\"><strong>COLLET</strong> CLAIRE</a></h2><div class=\"clear\"></div></div><div class=\"clear\"></div><div class=\"elements\"><div class=\"item left specialite\">Chirurgien-dentiste</div><div class=\"item right\"></div><div class=\"clear\"></div><div class=\"item left\"></div><div class=\"item right convention\"></div><div class=\"clear\"></div><div class=\"item left adresse\">CABINET DU DR COLLET<br/>20 RUE DU LIEUTENANT TIROUFLET<br/>61000 ALENCON</div><div class=\"clear\"></div></div><div class=\"clear\"></div></div></div><div class=\"item-professionnel\"><div class=\"item-professionnel-inner seo-bloc\"><span class=\"num\">11</span><div class=\"nom_pictos\"><h2 class=\"ignore-css\"><a href=\"/professionnels-de-sante/fiche-detaillee-tegally-cabaret-nooroulbassar-BrMwlTM0MTG2\"><strong>TEGALLY CABARET</strong> NOOROULBASSAR</a></h2><div class=\"clear\"></div></div><div class=\"clear\"></div><div class=\"elements\"><div class=\"item left specialite\">Chirurgien-dentiste</div><div class=\"item right\"></div><div class=\"clear\"></div><div class=\"item left\"></div><div class=\"item right convention\"></div><div class=\"clear\"></div><div class=\"item left adresse\">CABARET NOOR DENTAIRE<br/>7 RUE PIERRE JOUANNY<br/>61000 ALENCON</div><div class=\"clear\"></div></div><div class=\"clear\"></div></div></div><div class=\"item-professionnel\"><div class=\"item-professionnel-inner seo-bloc\"><span class=\"num\">12</span><div class=\"nom_pictos\"><h2 class=\"ignore-css\"><a href=\"/professionnels-de-sante/fiche-detaillee-steiger-antoine-BrMwmjIzMDu6\"><strong>STEIGER</strong> ANTOINE</a></h2><div class=\"clear\"></div></div><div class=\"clear\"></div><div class=\"elements\"><div class=\"item left specialite\">Chirurgien-dentiste</div><div class=\"item right\"></div><div class=\"clear\"></div><div class=\"item left\"></div><div class=\"item right convention\"></div><div class=\"clear\"></div><div class=\"item left adresse\">CABINET DU DR LAVALLEY<br/>3 RUE DU VAL FLEURY<br/>61000 ALENCON</div><div class=\"clear\"></div></div><div class=\"clear\"></div></div></div><div class=\"item-professionnel\"><div class=\"item-professionnel-inner seo-bloc\"><span class=\"num\">13</span><div class=\"nom_pictos\"><h2 class=\"ignore-css\"><a href=\"/professionnels-de-sante/fiche-detaillee-coroller-julie-BrMwkjI0MTq7\"><strong>COROLLER</strong> JULIE</a></h2><div class=\"clear\"></div></div><div class=\"clear\"></div><div class=\"elements\"><div class=\"item left specialite\">Chirurgien-dentiste</div><div class=\"item right\"></div><div class=\"clear\"></div><div class=\"item left\"></div><div class=\"item right convention\"></div><div class=\"clear\"></div><div class=\"item left adresse\">CABINET DU DR COROLLER<br/>3 RUE DU VAL FLEURI<br/>61000 ALENCON</div><div class=\"clear\"></div></div><div class=\"clear\"></div></div></div><div class=\"item-professionnel\"><div class=\"item-professionnel-inner seo-bloc\"><span class=\"num\">14</span><div class=\"nom_pictos\"><h2 class=\"ignore-css\"><a href=\"/professionnels-de-sante/fiche-detaillee-bontidean-gabriela-BrMwlTI0NDO0\"><strong>BONTIDEAN</strong> GABRIELA</a></h2><div class=\"clear\"></div></div><div class=\"clear\"></div><div class=\"elements\"><div class=\"item left specialite\">Chirurgien-dentiste</div><div class=\"item right\"></div><div class=\"clear\"></div><div class=\"item left\"></div><div class=\"item right convention\"></div><div class=\"clear\"></div><div class=\"item left adresse\">SELARL B AND V<br/>7 RUE MAL JM LATTRE DE TASSIGNY<br/>61000 ALENCON</div><div class=\"clear\"></div></div><div class=\"clear\"></div></div></div><div class=\"item-professionnel\"><div class=\"item-professionnel-inner seo-bloc\"><span class=\"num\">15</span><div class=\"nom_pictos\"><h2 class=\"ignore-css\"><a href=\"/professionnels-de-sante/fiche-detaillee-steiger-antoine-BrMwkjIzMDu3\"><strong>STEIGER</strong> ANTOINE</a></h2><div class=\"clear\"></div></div><div class=\"clear\"></div><div class=\"elements\"><div class=\"item left specialite\">Chirurgien-dentiste</div><div class=\"item right\"></div><div class=\"clear\"></div><div class=\"item left\"></div><div class=\"item right convention\"></div><div class=\"clear\"></div><div class=\"item left adresse\">CABINET DU DR COROLLER<br/>3 RUE DU VAL FLEURY<br/>61000 ALENCON</div><div class=\"clear\"></div></div><div class=\"clear\"></div></div></div><div class=\"item-professionnel\"><div class=\"item-professionnel-inner seo-bloc\"><span class=\"num\">16</span><div class=\"nom_pictos\"><h2 class=\"ignore-css\"><a href=\"/professionnels-de-sante/fiche-detaillee-lavalley-stephane-BrMwkjI1NjW7\"><strong>LAVALLEY</strong> STEPHANE</a></h2><div class=\"clear\"></div></div><div class=\"clear\"></div><div class=\"elements\"><div class=\"item left specialite\">Chirurgien-dentiste</div><div class=\"item right\"></div><div class=\"clear\"></div><div class=\"item left\"></div><div class=\"item right convention\"></div><div class=\"clear\"></div><div class=\"item left adresse\">CABINET DU DR LAVALLEY<br/>3 RUE DU VAL FLEURI<br/>61000 ALENCON</div><div class=\"clear\"></div></div><div class=\"clear\"></div></div></div><div class=\"item-professionnel\"><div class=\"item-professionnel-inner seo-bloc\"><span class=\"num\">17</span><div class=\"nom_pictos\"><h2 class=\"ignore-css\"><a href=\"/professionnels-de-sante/fiche-detaillee-le-blanc-caroline-BrMwkjI0NDC7\"><strong>LE BLANC</strong> CAROLINE</a></h2><div class=\"clear\"></div></div><div class=\"clear\"></div><div class=\"elements\"><div class=\"item left specialite\">Chirurgien-dentiste</div><div class=\"item right\"></div><div class=\"clear\"></div><div class=\"item left\"></div><div class=\"item right convention\"></div><div class=\"clear\"></div><div class=\"item left adresse\">CABINET DU DR LE BLANC<br/>9 COURS GEORGES CLEMENCEAU<br/>61000 ALENCON</div><div class=\"clear\"></div></div><div class=\"clear\"></div></div></div><div class=\"item-professionnel\"><div class=\"item-professionnel-inner seo-bloc\"><span class=\"num\">18</span><div class=\"nom_pictos\"><h2 class=\"ignore-css\"><a href=\"/professionnels-de-sante/fiche-detaillee-ciglenean-adelina-BrMwkjI0NDKx\"><strong>CIGLENEAN</strong> ADELINA</a></h2><div class=\"clear\"></div></div><div class=\"clear\"></div><div class=\"elements\"><div class=\"item left specialite\">Chirurgien-dentiste</div><div class=\"item right\"></div><div class=\"clear\"></div><div class=\"item left\"></div><div class=\"item right convention\"></div><div class=\"clear\"></div><div class=\"item left adresse\">SELARL ADI<br/>1 RUE JACQUES CONTE<br/>61000 ALENCON</div><div class=\"clear\"></div></div><div class=\"clear\"></div></div></div><div class=\"item-professionnel\"><div class=\"item-professionnel-inner seo-bloc\"><span class=\"num\">19</span><div class=\"nom_pictos\"><h2 class=\"ignore-css\"><a href=\"/professionnels-de-sante/fiche-detaillee-de-maneville-isabelle-BrMwkjI1MjWx\"><strong>DE MANEVILLE</strong> ISABELLE</a></h2><div class=\"clear\"></div></div><div class=\"clear\"></div><div class=\"elements\"><div class=\"item left specialite\">Chirurgien-dentiste</div><div class=\"item right\"></div><div class=\"clear\"></div><div class=\"item left\"></div><div class=\"item right convention\"></div><div class=\"clear\"></div><div class=\"item left adresse\">CABINET DU DR DE MANEVILLE<br/>CABINET DR DE MANEVILLE<br/>20 RUE DU BOULEVARD<br/>61000 ALENCON</div><div class=\"clear\"></div></div><div class=\"clear\"></div></div></div><div class=\"item-professionnel\"><div class=\"item-professionnel-inner seo-bloc\"><span class=\"num\">20</span><div class=\"nom_pictos\"><h2 class=\"ignore-css\"><a href=\"/professionnels-de-sante/fiche-detaillee-moliere-pauline-BrMwkjIwODS3\"><strong>MOLIERE</strong> PAULINE</a></h2><div class=\"clear\"></div></div><div class=\"clear\"></div><div class=\"elements\"><div class=\"item left specialite\">Chirurgien-dentiste</div><div class=\"item right\"></div><div class=\"clear\"></div><div class=\"item left\"></div><div class=\"item right convention\"></div><div class=\"clear\"></div><div class=\"item left adresse\">CABINET DU DR BLOTTIERE<br/>7 RUE MAURICE RAVEL<br/>61000 ALENCON</div><div class=\"clear\"></div></div><div class=\"clear\"></div></div></div> </div>\n",
      "<div class=\"tri\"></div>\n",
      "<div class=\"pagination\">\n",
      "<form action=\"/trouver-un-professionnel-de-sante/chirurgiens-dentistes/61-orne-alencon\" method=\"post\">\n",
      "\n",
      "\t\t\n",
      "\t\tPage <input name=\"pageCible\" type=\"text\" value=\"1\"/> sur 2\n",
      "\t\t\t\t\t<a href=\"/trouver-un-professionnel-de-sante/chirurgiens-dentistes/61-orne-alencon/page-2\" rel=\"next\">\n",
      "<img alt=\"Page suivante\" src=\"/resources_ver/20220302095149/images/pagination_next.png\"/>\n",
      "</a>\n",
      "<a href=\"/trouver-un-professionnel-de-sante/chirurgiens-dentistes/61-orne-alencon/page-2\" rel=\"last\">\n",
      "<img alt=\" - Aller à la dernière page\" src=\"/resources_ver/20220302095149/images/pagination_last.png\"/>\n",
      "</a>\n",
      "</form>\n",
      "</div> <div class=\"clear\"></div>\n",
      "</div>\n",
      "<div id=\"bascadre\"></div>\n",
      "</div>, <div id=\"hautcadre\"></div>, <div id=\"centrecadre\">\n",
      "<div class=\"tri\"></div>\n",
      "<div class=\"pagination\">\n",
      "<form action=\"/trouver-un-professionnel-de-sante/chirurgiens-dentistes/61-orne-alencon\" method=\"post\">\n",
      "\n",
      "\t\t\n",
      "\t\tPage <input name=\"pageCible\" type=\"text\" value=\"1\"/> sur 2\n",
      "\t\t\t\t\t<a href=\"/trouver-un-professionnel-de-sante/chirurgiens-dentistes/61-orne-alencon/page-2\" rel=\"next\">\n",
      "<img alt=\"Page suivante\" src=\"/resources_ver/20220302095149/images/pagination_next.png\"/>\n",
      "</a>\n",
      "<a href=\"/trouver-un-professionnel-de-sante/chirurgiens-dentistes/61-orne-alencon/page-2\" rel=\"last\">\n",
      "<img alt=\" - Aller à la dernière page\" src=\"/resources_ver/20220302095149/images/pagination_last.png\"/>\n",
      "</a>\n",
      "</form>\n",
      "</div> <div class=\"clear\"></div>\n",
      "<div class=\"liste-professionnel seo-bloc-page\">\n",
      "<div class=\"item-professionnel\"><div class=\"item-professionnel-inner seo-bloc\"><span class=\"num\">1</span><div class=\"nom_pictos\"><h2 class=\"ignore-css\"><a href=\"/professionnels-de-sante/fiche-detaillee-rault-johann-BrMwlTI1OTK0\"><strong>RAULT</strong> JOHANN</a></h2><div class=\"clear\"></div></div><div class=\"clear\"></div><div class=\"elements\"><div class=\"item left specialite\">Chirurgien-dentiste</div><div class=\"item right\"></div><div class=\"clear\"></div><div class=\"item left\"></div><div class=\"item right convention\"></div><div class=\"clear\"></div><div class=\"item left adresse\">SELARL TOUT SOURIRE<br/>83 RUE DU GUE DE SORRE<br/>61000 ALENCON</div><div class=\"clear\"></div></div><div class=\"clear\"></div></div></div><div class=\"item-professionnel\"><div class=\"item-professionnel-inner seo-bloc\"><span class=\"num\">2</span><div class=\"nom_pictos\"><h2 class=\"ignore-css\"><a href=\"/professionnels-de-sante/fiche-detaillee-bailleul-olivier-BrMwkjIyNzG7\"><strong>BAILLEUL</strong> OLIVIER</a></h2><div class=\"clear\"></div></div><div class=\"clear\"></div><div class=\"elements\"><div class=\"item left specialite\">Chirurgien-dentiste</div><div class=\"item right\"></div><div class=\"clear\"></div><div class=\"item left\"></div><div class=\"item right convention\"></div><div class=\"clear\"></div><div class=\"item left adresse\">CABINET DU DR BAILLEUL<br/>2 RUE LOUIS ROUSIER<br/>61000 ALENCON</div><div class=\"clear\"></div></div><div class=\"clear\"></div></div></div><div class=\"item-professionnel\"><div class=\"item-professionnel-inner seo-bloc\"><span class=\"num\">3</span><div class=\"nom_pictos\"><h2 class=\"ignore-css\"><a href=\"/professionnels-de-sante/fiche-detaillee-de-maneville-xavier-BrMwlTI1MjC7\"><strong>DE MANEVILLE</strong> XAVIER</a></h2><div class=\"clear\"></div></div><div class=\"clear\"></div><div class=\"elements\"><div class=\"item left specialite\">Chirurgien-dentiste</div><div class=\"item right\"></div><div class=\"clear\"></div><div class=\"item left\"></div><div class=\"item right convention\"></div><div class=\"clear\"></div><div class=\"item left adresse\">KAROLUS<br/>2 RUE LOUIS ROUSIER<br/>61000 ALENCON</div><div class=\"clear\"></div></div><div class=\"clear\"></div></div></div><div class=\"item-professionnel\"><div class=\"item-professionnel-inner seo-bloc\"><span class=\"num\">4</span><div class=\"nom_pictos\"><h2 class=\"ignore-css\"><a href=\"/professionnels-de-sante/fiche-detaillee-meurisse-helene-BrMwkjIwMjK2\"><strong>MEURISSE</strong> HELENE</a></h2><div class=\"clear\"></div></div><div class=\"clear\"></div><div class=\"elements\"><div class=\"item left specialite\">Chirurgien-dentiste</div><div class=\"item right\"></div><div class=\"clear\"></div><div class=\"item left\"></div><div class=\"item right convention\"></div><div class=\"clear\"></div><div class=\"item left adresse\">CABINET DU DR MEURISSE<br/>111 AVENUE DE COURTEILLE<br/>61000 ALENCON</div><div class=\"clear\"></div></div><div class=\"clear\"></div></div></div><div class=\"item-professionnel\"><div class=\"item-professionnel-inner seo-bloc\"><span class=\"num\">5</span><div class=\"nom_pictos\"><h2 class=\"ignore-css\"><a href=\"/professionnels-de-sante/fiche-detaillee-nedelea-lucian-BrMwkjIxMTe0\"><strong>NEDELEA</strong> LUCIAN</a></h2><div class=\"clear\"></div></div><div class=\"clear\"></div><div class=\"elements\"><div class=\"item left specialite\">Chirurgien-dentiste</div><div class=\"item right\"></div><div class=\"clear\"></div><div class=\"item left\"></div><div class=\"item right convention\"></div><div class=\"clear\"></div><div class=\"item left adresse\">SELARL DENTNED<br/>37 AVENUE DE QUAKENBRUCK<br/>61000 ALENCON</div><div class=\"clear\"></div></div><div class=\"clear\"></div></div></div><div class=\"item-professionnel\"><div class=\"item-professionnel-inner seo-bloc\"><span class=\"num\">6</span><div class=\"nom_pictos centre-sante\"><h2><a href=\"/etablissements-de-soins/fiche-detaillee-centre-de-sante-dentaire-alencon-BrM0lToxMzu1\">CENTRE DE SANTE DENTAIRE ALENCON</a></h2><div class=\"clear\"></div></div><div class=\"clear\"></div><div class=\"fake_pictos\"></div><div class=\"clear\"></div><div class=\"elements\"><div class=\"item left adresse\">CENTRE DE SANTE DENTAIRE ALENCON<br/>26 RUE ODOLANT DESNOS<br/>61000 ALENCON</div><div class=\"item right\"></div><div class=\"clear\"></div><div class=\"item left\"></div><div class=\"clear\"></div></div><div class=\"clear\"></div></div></div><div class=\"item-professionnel\"><div class=\"item-professionnel-inner seo-bloc\"><span class=\"num\">7</span><div class=\"nom_pictos\"><h2 class=\"ignore-css\"><a href=\"/professionnels-de-sante/fiche-detaillee-beaufrere-carre-laetitia-BrMwkjI1NjSz\"><strong>BEAUFRERE CARRE</strong> LAETITIA</a></h2><div class=\"clear\"></div></div><div class=\"clear\"></div><div class=\"elements\"><div class=\"item left specialite\">Chirurgien-dentiste</div><div class=\"item right\"></div><div class=\"clear\"></div><div class=\"item left\"></div><div class=\"item right convention\"></div><div class=\"clear\"></div><div class=\"item left adresse\">CABINET DU DR BEAUFRERE CARRE<br/>20 RUE DU BOULEVARD<br/>61000 ALENCON</div><div class=\"clear\"></div></div><div class=\"clear\"></div></div></div><div class=\"item-professionnel\"><div class=\"item-professionnel-inner seo-bloc\"><span class=\"num\">8</span><div class=\"nom_pictos\"><h2 class=\"ignore-css\"><a href=\"/professionnels-de-sante/fiche-detaillee-blottiere-aurelie-BrMwlDM0NDe6\"><strong>BLOTTIERE</strong> AURELIE</a></h2><div class=\"clear\"></div></div><div class=\"clear\"></div><div class=\"elements\"><div class=\"item left specialite\">Chirurgien-dentiste</div><div class=\"item right\"></div><div class=\"clear\"></div><div class=\"item left\"></div><div class=\"item right convention\"></div><div class=\"clear\"></div><div class=\"item left adresse\">CABINET DU DR BLOTTIERE<br/>7 RUE MAURICE RAVEL<br/>61000 ALENCON</div><div class=\"clear\"></div></div><div class=\"clear\"></div></div></div><div class=\"item-professionnel\"><div class=\"item-professionnel-inner seo-bloc\"><span class=\"num\">9</span><div class=\"nom_pictos\"><h2 class=\"ignore-css\"><a href=\"/professionnels-de-sante/fiche-detaillee-ursule-anthony-BrMwkjI0Mzu3\"><strong>URSULE</strong> ANTHONY</a></h2><div class=\"clear\"></div></div><div class=\"clear\"></div><div class=\"elements\"><div class=\"item left specialite\">Chirurgien-dentiste</div><div class=\"item right\"></div><div class=\"clear\"></div><div class=\"item left\"></div><div class=\"item right convention\"></div><div class=\"clear\"></div><div class=\"item left adresse\">CABINET DU DR URSULE<br/>9 COURS GEORGES CLEMENCEAU<br/>61000 ALENCON</div><div class=\"clear\"></div></div><div class=\"clear\"></div></div></div><div class=\"item-professionnel\"><div class=\"item-professionnel-inner seo-bloc\"><span class=\"num\">10</span><div class=\"nom_pictos\"><h2 class=\"ignore-css\"><a href=\"/professionnels-de-sante/fiche-detaillee-collet-claire-BrMwkjIwMTK3\"><strong>COLLET</strong> CLAIRE</a></h2><div class=\"clear\"></div></div><div class=\"clear\"></div><div class=\"elements\"><div class=\"item left specialite\">Chirurgien-dentiste</div><div class=\"item right\"></div><div class=\"clear\"></div><div class=\"item left\"></div><div class=\"item right convention\"></div><div class=\"clear\"></div><div class=\"item left adresse\">CABINET DU DR COLLET<br/>20 RUE DU LIEUTENANT TIROUFLET<br/>61000 ALENCON</div><div class=\"clear\"></div></div><div class=\"clear\"></div></div></div><div class=\"item-professionnel\"><div class=\"item-professionnel-inner seo-bloc\"><span class=\"num\">11</span><div class=\"nom_pictos\"><h2 class=\"ignore-css\"><a href=\"/professionnels-de-sante/fiche-detaillee-tegally-cabaret-nooroulbassar-BrMwlTM0MTG2\"><strong>TEGALLY CABARET</strong> NOOROULBASSAR</a></h2><div class=\"clear\"></div></div><div class=\"clear\"></div><div class=\"elements\"><div class=\"item left specialite\">Chirurgien-dentiste</div><div class=\"item right\"></div><div class=\"clear\"></div><div class=\"item left\"></div><div class=\"item right convention\"></div><div class=\"clear\"></div><div class=\"item left adresse\">CABARET NOOR DENTAIRE<br/>7 RUE PIERRE JOUANNY<br/>61000 ALENCON</div><div class=\"clear\"></div></div><div class=\"clear\"></div></div></div><div class=\"item-professionnel\"><div class=\"item-professionnel-inner seo-bloc\"><span class=\"num\">12</span><div class=\"nom_pictos\"><h2 class=\"ignore-css\"><a href=\"/professionnels-de-sante/fiche-detaillee-steiger-antoine-BrMwmjIzMDu6\"><strong>STEIGER</strong> ANTOINE</a></h2><div class=\"clear\"></div></div><div class=\"clear\"></div><div class=\"elements\"><div class=\"item left specialite\">Chirurgien-dentiste</div><div class=\"item right\"></div><div class=\"clear\"></div><div class=\"item left\"></div><div class=\"item right convention\"></div><div class=\"clear\"></div><div class=\"item left adresse\">CABINET DU DR LAVALLEY<br/>3 RUE DU VAL FLEURY<br/>61000 ALENCON</div><div class=\"clear\"></div></div><div class=\"clear\"></div></div></div><div class=\"item-professionnel\"><div class=\"item-professionnel-inner seo-bloc\"><span class=\"num\">13</span><div class=\"nom_pictos\"><h2 class=\"ignore-css\"><a href=\"/professionnels-de-sante/fiche-detaillee-coroller-julie-BrMwkjI0MTq7\"><strong>COROLLER</strong> JULIE</a></h2><div class=\"clear\"></div></div><div class=\"clear\"></div><div class=\"elements\"><div class=\"item left specialite\">Chirurgien-dentiste</div><div class=\"item right\"></div><div class=\"clear\"></div><div class=\"item left\"></div><div class=\"item right convention\"></div><div class=\"clear\"></div><div class=\"item left adresse\">CABINET DU DR COROLLER<br/>3 RUE DU VAL FLEURI<br/>61000 ALENCON</div><div class=\"clear\"></div></div><div class=\"clear\"></div></div></div><div class=\"item-professionnel\"><div class=\"item-professionnel-inner seo-bloc\"><span class=\"num\">14</span><div class=\"nom_pictos\"><h2 class=\"ignore-css\"><a href=\"/professionnels-de-sante/fiche-detaillee-bontidean-gabriela-BrMwlTI0NDO0\"><strong>BONTIDEAN</strong> GABRIELA</a></h2><div class=\"clear\"></div></div><div class=\"clear\"></div><div class=\"elements\"><div class=\"item left specialite\">Chirurgien-dentiste</div><div class=\"item right\"></div><div class=\"clear\"></div><div class=\"item left\"></div><div class=\"item right convention\"></div><div class=\"clear\"></div><div class=\"item left adresse\">SELARL B AND V<br/>7 RUE MAL JM LATTRE DE TASSIGNY<br/>61000 ALENCON</div><div class=\"clear\"></div></div><div class=\"clear\"></div></div></div><div class=\"item-professionnel\"><div class=\"item-professionnel-inner seo-bloc\"><span class=\"num\">15</span><div class=\"nom_pictos\"><h2 class=\"ignore-css\"><a href=\"/professionnels-de-sante/fiche-detaillee-steiger-antoine-BrMwkjIzMDu3\"><strong>STEIGER</strong> ANTOINE</a></h2><div class=\"clear\"></div></div><div class=\"clear\"></div><div class=\"elements\"><div class=\"item left specialite\">Chirurgien-dentiste</div><div class=\"item right\"></div><div class=\"clear\"></div><div class=\"item left\"></div><div class=\"item right convention\"></div><div class=\"clear\"></div><div class=\"item left adresse\">CABINET DU DR COROLLER<br/>3 RUE DU VAL FLEURY<br/>61000 ALENCON</div><div class=\"clear\"></div></div><div class=\"clear\"></div></div></div><div class=\"item-professionnel\"><div class=\"item-professionnel-inner seo-bloc\"><span class=\"num\">16</span><div class=\"nom_pictos\"><h2 class=\"ignore-css\"><a href=\"/professionnels-de-sante/fiche-detaillee-lavalley-stephane-BrMwkjI1NjW7\"><strong>LAVALLEY</strong> STEPHANE</a></h2><div class=\"clear\"></div></div><div class=\"clear\"></div><div class=\"elements\"><div class=\"item left specialite\">Chirurgien-dentiste</div><div class=\"item right\"></div><div class=\"clear\"></div><div class=\"item left\"></div><div class=\"item right convention\"></div><div class=\"clear\"></div><div class=\"item left adresse\">CABINET DU DR LAVALLEY<br/>3 RUE DU VAL FLEURI<br/>61000 ALENCON</div><div class=\"clear\"></div></div><div class=\"clear\"></div></div></div><div class=\"item-professionnel\"><div class=\"item-professionnel-inner seo-bloc\"><span class=\"num\">17</span><div class=\"nom_pictos\"><h2 class=\"ignore-css\"><a href=\"/professionnels-de-sante/fiche-detaillee-le-blanc-caroline-BrMwkjI0NDC7\"><strong>LE BLANC</strong> CAROLINE</a></h2><div class=\"clear\"></div></div><div class=\"clear\"></div><div class=\"elements\"><div class=\"item left specialite\">Chirurgien-dentiste</div><div class=\"item right\"></div><div class=\"clear\"></div><div class=\"item left\"></div><div class=\"item right convention\"></div><div class=\"clear\"></div><div class=\"item left adresse\">CABINET DU DR LE BLANC<br/>9 COURS GEORGES CLEMENCEAU<br/>61000 ALENCON</div><div class=\"clear\"></div></div><div class=\"clear\"></div></div></div><div class=\"item-professionnel\"><div class=\"item-professionnel-inner seo-bloc\"><span class=\"num\">18</span><div class=\"nom_pictos\"><h2 class=\"ignore-css\"><a href=\"/professionnels-de-sante/fiche-detaillee-ciglenean-adelina-BrMwkjI0NDKx\"><strong>CIGLENEAN</strong> ADELINA</a></h2><div class=\"clear\"></div></div><div class=\"clear\"></div><div class=\"elements\"><div class=\"item left specialite\">Chirurgien-dentiste</div><div class=\"item right\"></div><div class=\"clear\"></div><div class=\"item left\"></div><div class=\"item right convention\"></div><div class=\"clear\"></div><div class=\"item left adresse\">SELARL ADI<br/>1 RUE JACQUES CONTE<br/>61000 ALENCON</div><div class=\"clear\"></div></div><div class=\"clear\"></div></div></div><div class=\"item-professionnel\"><div class=\"item-professionnel-inner seo-bloc\"><span class=\"num\">19</span><div class=\"nom_pictos\"><h2 class=\"ignore-css\"><a href=\"/professionnels-de-sante/fiche-detaillee-de-maneville-isabelle-BrMwkjI1MjWx\"><strong>DE MANEVILLE</strong> ISABELLE</a></h2><div class=\"clear\"></div></div><div class=\"clear\"></div><div class=\"elements\"><div class=\"item left specialite\">Chirurgien-dentiste</div><div class=\"item right\"></div><div class=\"clear\"></div><div class=\"item left\"></div><div class=\"item right convention\"></div><div class=\"clear\"></div><div class=\"item left adresse\">CABINET DU DR DE MANEVILLE<br/>CABINET DR DE MANEVILLE<br/>20 RUE DU BOULEVARD<br/>61000 ALENCON</div><div class=\"clear\"></div></div><div class=\"clear\"></div></div></div><div class=\"item-professionnel\"><div class=\"item-professionnel-inner seo-bloc\"><span class=\"num\">20</span><div class=\"nom_pictos\"><h2 class=\"ignore-css\"><a href=\"/professionnels-de-sante/fiche-detaillee-moliere-pauline-BrMwkjIwODS3\"><strong>MOLIERE</strong> PAULINE</a></h2><div class=\"clear\"></div></div><div class=\"clear\"></div><div class=\"elements\"><div class=\"item left specialite\">Chirurgien-dentiste</div><div class=\"item right\"></div><div class=\"clear\"></div><div class=\"item left\"></div><div class=\"item right convention\"></div><div class=\"clear\"></div><div class=\"item left adresse\">CABINET DU DR BLOTTIERE<br/>7 RUE MAURICE RAVEL<br/>61000 ALENCON</div><div class=\"clear\"></div></div><div class=\"clear\"></div></div></div> </div>\n",
      "<div class=\"tri\"></div>\n",
      "<div class=\"pagination\">\n",
      "<form action=\"/trouver-un-professionnel-de-sante/chirurgiens-dentistes/61-orne-alencon\" method=\"post\">\n",
      "\n",
      "\t\t\n",
      "\t\tPage <input name=\"pageCible\" type=\"text\" value=\"1\"/> sur 2\n",
      "\t\t\t\t\t<a href=\"/trouver-un-professionnel-de-sante/chirurgiens-dentistes/61-orne-alencon/page-2\" rel=\"next\">\n",
      "<img alt=\"Page suivante\" src=\"/resources_ver/20220302095149/images/pagination_next.png\"/>\n",
      "</a>\n",
      "<a href=\"/trouver-un-professionnel-de-sante/chirurgiens-dentistes/61-orne-alencon/page-2\" rel=\"last\">\n",
      "<img alt=\" - Aller à la dernière page\" src=\"/resources_ver/20220302095149/images/pagination_last.png\"/>\n",
      "</a>\n",
      "</form>\n",
      "</div> <div class=\"clear\"></div>\n",
      "</div>, <div class=\"tri\"></div>, <div class=\"pagination\">\n",
      "<form action=\"/trouver-un-professionnel-de-sante/chirurgiens-dentistes/61-orne-alencon\" method=\"post\">\n",
      "\n",
      "\t\t\n",
      "\t\tPage <input name=\"pageCible\" type=\"text\" value=\"1\"/> sur 2\n",
      "\t\t\t\t\t<a href=\"/trouver-un-professionnel-de-sante/chirurgiens-dentistes/61-orne-alencon/page-2\" rel=\"next\">\n",
      "<img alt=\"Page suivante\" src=\"/resources_ver/20220302095149/images/pagination_next.png\"/>\n",
      "</a>\n",
      "<a href=\"/trouver-un-professionnel-de-sante/chirurgiens-dentistes/61-orne-alencon/page-2\" rel=\"last\">\n",
      "<img alt=\" - Aller à la dernière page\" src=\"/resources_ver/20220302095149/images/pagination_last.png\"/>\n",
      "</a>\n",
      "</form>\n",
      "</div>, <div class=\"clear\"></div>, <div class=\"liste-professionnel seo-bloc-page\">\n",
      "<div class=\"item-professionnel\"><div class=\"item-professionnel-inner seo-bloc\"><span class=\"num\">1</span><div class=\"nom_pictos\"><h2 class=\"ignore-css\"><a href=\"/professionnels-de-sante/fiche-detaillee-rault-johann-BrMwlTI1OTK0\"><strong>RAULT</strong> JOHANN</a></h2><div class=\"clear\"></div></div><div class=\"clear\"></div><div class=\"elements\"><div class=\"item left specialite\">Chirurgien-dentiste</div><div class=\"item right\"></div><div class=\"clear\"></div><div class=\"item left\"></div><div class=\"item right convention\"></div><div class=\"clear\"></div><div class=\"item left adresse\">SELARL TOUT SOURIRE<br/>83 RUE DU GUE DE SORRE<br/>61000 ALENCON</div><div class=\"clear\"></div></div><div class=\"clear\"></div></div></div><div class=\"item-professionnel\"><div class=\"item-professionnel-inner seo-bloc\"><span class=\"num\">2</span><div class=\"nom_pictos\"><h2 class=\"ignore-css\"><a href=\"/professionnels-de-sante/fiche-detaillee-bailleul-olivier-BrMwkjIyNzG7\"><strong>BAILLEUL</strong> OLIVIER</a></h2><div class=\"clear\"></div></div><div class=\"clear\"></div><div class=\"elements\"><div class=\"item left specialite\">Chirurgien-dentiste</div><div class=\"item right\"></div><div class=\"clear\"></div><div class=\"item left\"></div><div class=\"item right convention\"></div><div class=\"clear\"></div><div class=\"item left adresse\">CABINET DU DR BAILLEUL<br/>2 RUE LOUIS ROUSIER<br/>61000 ALENCON</div><div class=\"clear\"></div></div><div class=\"clear\"></div></div></div><div class=\"item-professionnel\"><div class=\"item-professionnel-inner seo-bloc\"><span class=\"num\">3</span><div class=\"nom_pictos\"><h2 class=\"ignore-css\"><a href=\"/professionnels-de-sante/fiche-detaillee-de-maneville-xavier-BrMwlTI1MjC7\"><strong>DE MANEVILLE</strong> XAVIER</a></h2><div class=\"clear\"></div></div><div class=\"clear\"></div><div class=\"elements\"><div class=\"item left specialite\">Chirurgien-dentiste</div><div class=\"item right\"></div><div class=\"clear\"></div><div class=\"item left\"></div><div class=\"item right convention\"></div><div class=\"clear\"></div><div class=\"item left adresse\">KAROLUS<br/>2 RUE LOUIS ROUSIER<br/>61000 ALENCON</div><div class=\"clear\"></div></div><div class=\"clear\"></div></div></div><div class=\"item-professionnel\"><div class=\"item-professionnel-inner seo-bloc\"><span class=\"num\">4</span><div class=\"nom_pictos\"><h2 class=\"ignore-css\"><a href=\"/professionnels-de-sante/fiche-detaillee-meurisse-helene-BrMwkjIwMjK2\"><strong>MEURISSE</strong> HELENE</a></h2><div class=\"clear\"></div></div><div class=\"clear\"></div><div class=\"elements\"><div class=\"item left specialite\">Chirurgien-dentiste</div><div class=\"item right\"></div><div class=\"clear\"></div><div class=\"item left\"></div><div class=\"item right convention\"></div><div class=\"clear\"></div><div class=\"item left adresse\">CABINET DU DR MEURISSE<br/>111 AVENUE DE COURTEILLE<br/>61000 ALENCON</div><div class=\"clear\"></div></div><div class=\"clear\"></div></div></div><div class=\"item-professionnel\"><div class=\"item-professionnel-inner seo-bloc\"><span class=\"num\">5</span><div class=\"nom_pictos\"><h2 class=\"ignore-css\"><a href=\"/professionnels-de-sante/fiche-detaillee-nedelea-lucian-BrMwkjIxMTe0\"><strong>NEDELEA</strong> LUCIAN</a></h2><div class=\"clear\"></div></div><div class=\"clear\"></div><div class=\"elements\"><div class=\"item left specialite\">Chirurgien-dentiste</div><div class=\"item right\"></div><div class=\"clear\"></div><div class=\"item left\"></div><div class=\"item right convention\"></div><div class=\"clear\"></div><div class=\"item left adresse\">SELARL DENTNED<br/>37 AVENUE DE QUAKENBRUCK<br/>61000 ALENCON</div><div class=\"clear\"></div></div><div class=\"clear\"></div></div></div><div class=\"item-professionnel\"><div class=\"item-professionnel-inner seo-bloc\"><span class=\"num\">6</span><div class=\"nom_pictos centre-sante\"><h2><a href=\"/etablissements-de-soins/fiche-detaillee-centre-de-sante-dentaire-alencon-BrM0lToxMzu1\">CENTRE DE SANTE DENTAIRE ALENCON</a></h2><div class=\"clear\"></div></div><div class=\"clear\"></div><div class=\"fake_pictos\"></div><div class=\"clear\"></div><div class=\"elements\"><div class=\"item left adresse\">CENTRE DE SANTE DENTAIRE ALENCON<br/>26 RUE ODOLANT DESNOS<br/>61000 ALENCON</div><div class=\"item right\"></div><div class=\"clear\"></div><div class=\"item left\"></div><div class=\"clear\"></div></div><div class=\"clear\"></div></div></div><div class=\"item-professionnel\"><div class=\"item-professionnel-inner seo-bloc\"><span class=\"num\">7</span><div class=\"nom_pictos\"><h2 class=\"ignore-css\"><a href=\"/professionnels-de-sante/fiche-detaillee-beaufrere-carre-laetitia-BrMwkjI1NjSz\"><strong>BEAUFRERE CARRE</strong> LAETITIA</a></h2><div class=\"clear\"></div></div><div class=\"clear\"></div><div class=\"elements\"><div class=\"item left specialite\">Chirurgien-dentiste</div><div class=\"item right\"></div><div class=\"clear\"></div><div class=\"item left\"></div><div class=\"item right convention\"></div><div class=\"clear\"></div><div class=\"item left adresse\">CABINET DU DR BEAUFRERE CARRE<br/>20 RUE DU BOULEVARD<br/>61000 ALENCON</div><div class=\"clear\"></div></div><div class=\"clear\"></div></div></div><div class=\"item-professionnel\"><div class=\"item-professionnel-inner seo-bloc\"><span class=\"num\">8</span><div class=\"nom_pictos\"><h2 class=\"ignore-css\"><a href=\"/professionnels-de-sante/fiche-detaillee-blottiere-aurelie-BrMwlDM0NDe6\"><strong>BLOTTIERE</strong> AURELIE</a></h2><div class=\"clear\"></div></div><div class=\"clear\"></div><div class=\"elements\"><div class=\"item left specialite\">Chirurgien-dentiste</div><div class=\"item right\"></div><div class=\"clear\"></div><div class=\"item left\"></div><div class=\"item right convention\"></div><div class=\"clear\"></div><div class=\"item left adresse\">CABINET DU DR BLOTTIERE<br/>7 RUE MAURICE RAVEL<br/>61000 ALENCON</div><div class=\"clear\"></div></div><div class=\"clear\"></div></div></div><div class=\"item-professionnel\"><div class=\"item-professionnel-inner seo-bloc\"><span class=\"num\">9</span><div class=\"nom_pictos\"><h2 class=\"ignore-css\"><a href=\"/professionnels-de-sante/fiche-detaillee-ursule-anthony-BrMwkjI0Mzu3\"><strong>URSULE</strong> ANTHONY</a></h2><div class=\"clear\"></div></div><div class=\"clear\"></div><div class=\"elements\"><div class=\"item left specialite\">Chirurgien-dentiste</div><div class=\"item right\"></div><div class=\"clear\"></div><div class=\"item left\"></div><div class=\"item right convention\"></div><div class=\"clear\"></div><div class=\"item left adresse\">CABINET DU DR URSULE<br/>9 COURS GEORGES CLEMENCEAU<br/>61000 ALENCON</div><div class=\"clear\"></div></div><div class=\"clear\"></div></div></div><div class=\"item-professionnel\"><div class=\"item-professionnel-inner seo-bloc\"><span class=\"num\">10</span><div class=\"nom_pictos\"><h2 class=\"ignore-css\"><a href=\"/professionnels-de-sante/fiche-detaillee-collet-claire-BrMwkjIwMTK3\"><strong>COLLET</strong> CLAIRE</a></h2><div class=\"clear\"></div></div><div class=\"clear\"></div><div class=\"elements\"><div class=\"item left specialite\">Chirurgien-dentiste</div><div class=\"item right\"></div><div class=\"clear\"></div><div class=\"item left\"></div><div class=\"item right convention\"></div><div class=\"clear\"></div><div class=\"item left adresse\">CABINET DU DR COLLET<br/>20 RUE DU LIEUTENANT TIROUFLET<br/>61000 ALENCON</div><div class=\"clear\"></div></div><div class=\"clear\"></div></div></div><div class=\"item-professionnel\"><div class=\"item-professionnel-inner seo-bloc\"><span class=\"num\">11</span><div class=\"nom_pictos\"><h2 class=\"ignore-css\"><a href=\"/professionnels-de-sante/fiche-detaillee-tegally-cabaret-nooroulbassar-BrMwlTM0MTG2\"><strong>TEGALLY CABARET</strong> NOOROULBASSAR</a></h2><div class=\"clear\"></div></div><div class=\"clear\"></div><div class=\"elements\"><div class=\"item left specialite\">Chirurgien-dentiste</div><div class=\"item right\"></div><div class=\"clear\"></div><div class=\"item left\"></div><div class=\"item right convention\"></div><div class=\"clear\"></div><div class=\"item left adresse\">CABARET NOOR DENTAIRE<br/>7 RUE PIERRE JOUANNY<br/>61000 ALENCON</div><div class=\"clear\"></div></div><div class=\"clear\"></div></div></div><div class=\"item-professionnel\"><div class=\"item-professionnel-inner seo-bloc\"><span class=\"num\">12</span><div class=\"nom_pictos\"><h2 class=\"ignore-css\"><a href=\"/professionnels-de-sante/fiche-detaillee-steiger-antoine-BrMwmjIzMDu6\"><strong>STEIGER</strong> ANTOINE</a></h2><div class=\"clear\"></div></div><div class=\"clear\"></div><div class=\"elements\"><div class=\"item left specialite\">Chirurgien-dentiste</div><div class=\"item right\"></div><div class=\"clear\"></div><div class=\"item left\"></div><div class=\"item right convention\"></div><div class=\"clear\"></div><div class=\"item left adresse\">CABINET DU DR LAVALLEY<br/>3 RUE DU VAL FLEURY<br/>61000 ALENCON</div><div class=\"clear\"></div></div><div class=\"clear\"></div></div></div><div class=\"item-professionnel\"><div class=\"item-professionnel-inner seo-bloc\"><span class=\"num\">13</span><div class=\"nom_pictos\"><h2 class=\"ignore-css\"><a href=\"/professionnels-de-sante/fiche-detaillee-coroller-julie-BrMwkjI0MTq7\"><strong>COROLLER</strong> JULIE</a></h2><div class=\"clear\"></div></div><div class=\"clear\"></div><div class=\"elements\"><div class=\"item left specialite\">Chirurgien-dentiste</div><div class=\"item right\"></div><div class=\"clear\"></div><div class=\"item left\"></div><div class=\"item right convention\"></div><div class=\"clear\"></div><div class=\"item left adresse\">CABINET DU DR COROLLER<br/>3 RUE DU VAL FLEURI<br/>61000 ALENCON</div><div class=\"clear\"></div></div><div class=\"clear\"></div></div></div><div class=\"item-professionnel\"><div class=\"item-professionnel-inner seo-bloc\"><span class=\"num\">14</span><div class=\"nom_pictos\"><h2 class=\"ignore-css\"><a href=\"/professionnels-de-sante/fiche-detaillee-bontidean-gabriela-BrMwlTI0NDO0\"><strong>BONTIDEAN</strong> GABRIELA</a></h2><div class=\"clear\"></div></div><div class=\"clear\"></div><div class=\"elements\"><div class=\"item left specialite\">Chirurgien-dentiste</div><div class=\"item right\"></div><div class=\"clear\"></div><div class=\"item left\"></div><div class=\"item right convention\"></div><div class=\"clear\"></div><div class=\"item left adresse\">SELARL B AND V<br/>7 RUE MAL JM LATTRE DE TASSIGNY<br/>61000 ALENCON</div><div class=\"clear\"></div></div><div class=\"clear\"></div></div></div><div class=\"item-professionnel\"><div class=\"item-professionnel-inner seo-bloc\"><span class=\"num\">15</span><div class=\"nom_pictos\"><h2 class=\"ignore-css\"><a href=\"/professionnels-de-sante/fiche-detaillee-steiger-antoine-BrMwkjIzMDu3\"><strong>STEIGER</strong> ANTOINE</a></h2><div class=\"clear\"></div></div><div class=\"clear\"></div><div class=\"elements\"><div class=\"item left specialite\">Chirurgien-dentiste</div><div class=\"item right\"></div><div class=\"clear\"></div><div class=\"item left\"></div><div class=\"item right convention\"></div><div class=\"clear\"></div><div class=\"item left adresse\">CABINET DU DR COROLLER<br/>3 RUE DU VAL FLEURY<br/>61000 ALENCON</div><div class=\"clear\"></div></div><div class=\"clear\"></div></div></div><div class=\"item-professionnel\"><div class=\"item-professionnel-inner seo-bloc\"><span class=\"num\">16</span><div class=\"nom_pictos\"><h2 class=\"ignore-css\"><a href=\"/professionnels-de-sante/fiche-detaillee-lavalley-stephane-BrMwkjI1NjW7\"><strong>LAVALLEY</strong> STEPHANE</a></h2><div class=\"clear\"></div></div><div class=\"clear\"></div><div class=\"elements\"><div class=\"item left specialite\">Chirurgien-dentiste</div><div class=\"item right\"></div><div class=\"clear\"></div><div class=\"item left\"></div><div class=\"item right convention\"></div><div class=\"clear\"></div><div class=\"item left adresse\">CABINET DU DR LAVALLEY<br/>3 RUE DU VAL FLEURI<br/>61000 ALENCON</div><div class=\"clear\"></div></div><div class=\"clear\"></div></div></div><div class=\"item-professionnel\"><div class=\"item-professionnel-inner seo-bloc\"><span class=\"num\">17</span><div class=\"nom_pictos\"><h2 class=\"ignore-css\"><a href=\"/professionnels-de-sante/fiche-detaillee-le-blanc-caroline-BrMwkjI0NDC7\"><strong>LE BLANC</strong> CAROLINE</a></h2><div class=\"clear\"></div></div><div class=\"clear\"></div><div class=\"elements\"><div class=\"item left specialite\">Chirurgien-dentiste</div><div class=\"item right\"></div><div class=\"clear\"></div><div class=\"item left\"></div><div class=\"item right convention\"></div><div class=\"clear\"></div><div class=\"item left adresse\">CABINET DU DR LE BLANC<br/>9 COURS GEORGES CLEMENCEAU<br/>61000 ALENCON</div><div class=\"clear\"></div></div><div class=\"clear\"></div></div></div><div class=\"item-professionnel\"><div class=\"item-professionnel-inner seo-bloc\"><span class=\"num\">18</span><div class=\"nom_pictos\"><h2 class=\"ignore-css\"><a href=\"/professionnels-de-sante/fiche-detaillee-ciglenean-adelina-BrMwkjI0NDKx\"><strong>CIGLENEAN</strong> ADELINA</a></h2><div class=\"clear\"></div></div><div class=\"clear\"></div><div class=\"elements\"><div class=\"item left specialite\">Chirurgien-dentiste</div><div class=\"item right\"></div><div class=\"clear\"></div><div class=\"item left\"></div><div class=\"item right convention\"></div><div class=\"clear\"></div><div class=\"item left adresse\">SELARL ADI<br/>1 RUE JACQUES CONTE<br/>61000 ALENCON</div><div class=\"clear\"></div></div><div class=\"clear\"></div></div></div><div class=\"item-professionnel\"><div class=\"item-professionnel-inner seo-bloc\"><span class=\"num\">19</span><div class=\"nom_pictos\"><h2 class=\"ignore-css\"><a href=\"/professionnels-de-sante/fiche-detaillee-de-maneville-isabelle-BrMwkjI1MjWx\"><strong>DE MANEVILLE</strong> ISABELLE</a></h2><div class=\"clear\"></div></div><div class=\"clear\"></div><div class=\"elements\"><div class=\"item left specialite\">Chirurgien-dentiste</div><div class=\"item right\"></div><div class=\"clear\"></div><div class=\"item left\"></div><div class=\"item right convention\"></div><div class=\"clear\"></div><div class=\"item left adresse\">CABINET DU DR DE MANEVILLE<br/>CABINET DR DE MANEVILLE<br/>20 RUE DU BOULEVARD<br/>61000 ALENCON</div><div class=\"clear\"></div></div><div class=\"clear\"></div></div></div><div class=\"item-professionnel\"><div class=\"item-professionnel-inner seo-bloc\"><span class=\"num\">20</span><div class=\"nom_pictos\"><h2 class=\"ignore-css\"><a href=\"/professionnels-de-sante/fiche-detaillee-moliere-pauline-BrMwkjIwODS3\"><strong>MOLIERE</strong> PAULINE</a></h2><div class=\"clear\"></div></div><div class=\"clear\"></div><div class=\"elements\"><div class=\"item left specialite\">Chirurgien-dentiste</div><div class=\"item right\"></div><div class=\"clear\"></div><div class=\"item left\"></div><div class=\"item right convention\"></div><div class=\"clear\"></div><div class=\"item left adresse\">CABINET DU DR BLOTTIERE<br/>7 RUE MAURICE RAVEL<br/>61000 ALENCON</div><div class=\"clear\"></div></div><div class=\"clear\"></div></div></div> </div>, <div class=\"item-professionnel\"><div class=\"item-professionnel-inner seo-bloc\"><span class=\"num\">1</span><div class=\"nom_pictos\"><h2 class=\"ignore-css\"><a href=\"/professionnels-de-sante/fiche-detaillee-rault-johann-BrMwlTI1OTK0\"><strong>RAULT</strong> JOHANN</a></h2><div class=\"clear\"></div></div><div class=\"clear\"></div><div class=\"elements\"><div class=\"item left specialite\">Chirurgien-dentiste</div><div class=\"item right\"></div><div class=\"clear\"></div><div class=\"item left\"></div><div class=\"item right convention\"></div><div class=\"clear\"></div><div class=\"item left adresse\">SELARL TOUT SOURIRE<br/>83 RUE DU GUE DE SORRE<br/>61000 ALENCON</div><div class=\"clear\"></div></div><div class=\"clear\"></div></div></div>, <div class=\"item-professionnel-inner seo-bloc\"><span class=\"num\">1</span><div class=\"nom_pictos\"><h2 class=\"ignore-css\"><a href=\"/professionnels-de-sante/fiche-detaillee-rault-johann-BrMwlTI1OTK0\"><strong>RAULT</strong> JOHANN</a></h2><div class=\"clear\"></div></div><div class=\"clear\"></div><div class=\"elements\"><div class=\"item left specialite\">Chirurgien-dentiste</div><div class=\"item right\"></div><div class=\"clear\"></div><div class=\"item left\"></div><div class=\"item right convention\"></div><div class=\"clear\"></div><div class=\"item left adresse\">SELARL TOUT SOURIRE<br/>83 RUE DU GUE DE SORRE<br/>61000 ALENCON</div><div class=\"clear\"></div></div><div class=\"clear\"></div></div>, <div class=\"nom_pictos\"><h2 class=\"ignore-css\"><a href=\"/professionnels-de-sante/fiche-detaillee-rault-johann-BrMwlTI1OTK0\"><strong>RAULT</strong> JOHANN</a></h2><div class=\"clear\"></div></div>, <div class=\"clear\"></div>, <div class=\"clear\"></div>, <div class=\"elements\"><div class=\"item left specialite\">Chirurgien-dentiste</div><div class=\"item right\"></div><div class=\"clear\"></div><div class=\"item left\"></div><div class=\"item right convention\"></div><div class=\"clear\"></div><div class=\"item left adresse\">SELARL TOUT SOURIRE<br/>83 RUE DU GUE DE SORRE<br/>61000 ALENCON</div><div class=\"clear\"></div></div>, <div class=\"item left specialite\">Chirurgien-dentiste</div>, <div class=\"item right\"></div>, <div class=\"clear\"></div>, <div class=\"item left\"></div>, <div class=\"item right convention\"></div>, <div class=\"clear\"></div>, <div class=\"item left adresse\">SELARL TOUT SOURIRE<br/>83 RUE DU GUE DE SORRE<br/>61000 ALENCON</div>, <div class=\"clear\"></div>, <div class=\"clear\"></div>, <div class=\"item-professionnel\"><div class=\"item-professionnel-inner seo-bloc\"><span class=\"num\">2</span><div class=\"nom_pictos\"><h2 class=\"ignore-css\"><a href=\"/professionnels-de-sante/fiche-detaillee-bailleul-olivier-BrMwkjIyNzG7\"><strong>BAILLEUL</strong> OLIVIER</a></h2><div class=\"clear\"></div></div><div class=\"clear\"></div><div class=\"elements\"><div class=\"item left specialite\">Chirurgien-dentiste</div><div class=\"item right\"></div><div class=\"clear\"></div><div class=\"item left\"></div><div class=\"item right convention\"></div><div class=\"clear\"></div><div class=\"item left adresse\">CABINET DU DR BAILLEUL<br/>2 RUE LOUIS ROUSIER<br/>61000 ALENCON</div><div class=\"clear\"></div></div><div class=\"clear\"></div></div></div>, <div class=\"item-professionnel-inner seo-bloc\"><span class=\"num\">2</span><div class=\"nom_pictos\"><h2 class=\"ignore-css\"><a href=\"/professionnels-de-sante/fiche-detaillee-bailleul-olivier-BrMwkjIyNzG7\"><strong>BAILLEUL</strong> OLIVIER</a></h2><div class=\"clear\"></div></div><div class=\"clear\"></div><div class=\"elements\"><div class=\"item left specialite\">Chirurgien-dentiste</div><div class=\"item right\"></div><div class=\"clear\"></div><div class=\"item left\"></div><div class=\"item right convention\"></div><div class=\"clear\"></div><div class=\"item left adresse\">CABINET DU DR BAILLEUL<br/>2 RUE LOUIS ROUSIER<br/>61000 ALENCON</div><div class=\"clear\"></div></div><div class=\"clear\"></div></div>, <div class=\"nom_pictos\"><h2 class=\"ignore-css\"><a href=\"/professionnels-de-sante/fiche-detaillee-bailleul-olivier-BrMwkjIyNzG7\"><strong>BAILLEUL</strong> OLIVIER</a></h2><div class=\"clear\"></div></div>, <div class=\"clear\"></div>, <div class=\"clear\"></div>, <div class=\"elements\"><div class=\"item left specialite\">Chirurgien-dentiste</div><div class=\"item right\"></div><div class=\"clear\"></div><div class=\"item left\"></div><div class=\"item right convention\"></div><div class=\"clear\"></div><div class=\"item left adresse\">CABINET DU DR BAILLEUL<br/>2 RUE LOUIS ROUSIER<br/>61000 ALENCON</div><div class=\"clear\"></div></div>, <div class=\"item left specialite\">Chirurgien-dentiste</div>, <div class=\"item right\"></div>, <div class=\"clear\"></div>, <div class=\"item left\"></div>, <div class=\"item right convention\"></div>, <div class=\"clear\"></div>, <div class=\"item left adresse\">CABINET DU DR BAILLEUL<br/>2 RUE LOUIS ROUSIER<br/>61000 ALENCON</div>, <div class=\"clear\"></div>, <div class=\"clear\"></div>, <div class=\"item-professionnel\"><div class=\"item-professionnel-inner seo-bloc\"><span class=\"num\">3</span><div class=\"nom_pictos\"><h2 class=\"ignore-css\"><a href=\"/professionnels-de-sante/fiche-detaillee-de-maneville-xavier-BrMwlTI1MjC7\"><strong>DE MANEVILLE</strong> XAVIER</a></h2><div class=\"clear\"></div></div><div class=\"clear\"></div><div class=\"elements\"><div class=\"item left specialite\">Chirurgien-dentiste</div><div class=\"item right\"></div><div class=\"clear\"></div><div class=\"item left\"></div><div class=\"item right convention\"></div><div class=\"clear\"></div><div class=\"item left adresse\">KAROLUS<br/>2 RUE LOUIS ROUSIER<br/>61000 ALENCON</div><div class=\"clear\"></div></div><div class=\"clear\"></div></div></div>, <div class=\"item-professionnel-inner seo-bloc\"><span class=\"num\">3</span><div class=\"nom_pictos\"><h2 class=\"ignore-css\"><a href=\"/professionnels-de-sante/fiche-detaillee-de-maneville-xavier-BrMwlTI1MjC7\"><strong>DE MANEVILLE</strong> XAVIER</a></h2><div class=\"clear\"></div></div><div class=\"clear\"></div><div class=\"elements\"><div class=\"item left specialite\">Chirurgien-dentiste</div><div class=\"item right\"></div><div class=\"clear\"></div><div class=\"item left\"></div><div class=\"item right convention\"></div><div class=\"clear\"></div><div class=\"item left adresse\">KAROLUS<br/>2 RUE LOUIS ROUSIER<br/>61000 ALENCON</div><div class=\"clear\"></div></div><div class=\"clear\"></div></div>, <div class=\"nom_pictos\"><h2 class=\"ignore-css\"><a href=\"/professionnels-de-sante/fiche-detaillee-de-maneville-xavier-BrMwlTI1MjC7\"><strong>DE MANEVILLE</strong> XAVIER</a></h2><div class=\"clear\"></div></div>, <div class=\"clear\"></div>, <div class=\"clear\"></div>, <div class=\"elements\"><div class=\"item left specialite\">Chirurgien-dentiste</div><div class=\"item right\"></div><div class=\"clear\"></div><div class=\"item left\"></div><div class=\"item right convention\"></div><div class=\"clear\"></div><div class=\"item left adresse\">KAROLUS<br/>2 RUE LOUIS ROUSIER<br/>61000 ALENCON</div><div class=\"clear\"></div></div>, <div class=\"item left specialite\">Chirurgien-dentiste</div>, <div class=\"item right\"></div>, <div class=\"clear\"></div>, <div class=\"item left\"></div>, <div class=\"item right convention\"></div>, <div class=\"clear\"></div>, <div class=\"item left adresse\">KAROLUS<br/>2 RUE LOUIS ROUSIER<br/>61000 ALENCON</div>, <div class=\"clear\"></div>, <div class=\"clear\"></div>, <div class=\"item-professionnel\"><div class=\"item-professionnel-inner seo-bloc\"><span class=\"num\">4</span><div class=\"nom_pictos\"><h2 class=\"ignore-css\"><a href=\"/professionnels-de-sante/fiche-detaillee-meurisse-helene-BrMwkjIwMjK2\"><strong>MEURISSE</strong> HELENE</a></h2><div class=\"clear\"></div></div><div class=\"clear\"></div><div class=\"elements\"><div class=\"item left specialite\">Chirurgien-dentiste</div><div class=\"item right\"></div><div class=\"clear\"></div><div class=\"item left\"></div><div class=\"item right convention\"></div><div class=\"clear\"></div><div class=\"item left adresse\">CABINET DU DR MEURISSE<br/>111 AVENUE DE COURTEILLE<br/>61000 ALENCON</div><div class=\"clear\"></div></div><div class=\"clear\"></div></div></div>, <div class=\"item-professionnel-inner seo-bloc\"><span class=\"num\">4</span><div class=\"nom_pictos\"><h2 class=\"ignore-css\"><a href=\"/professionnels-de-sante/fiche-detaillee-meurisse-helene-BrMwkjIwMjK2\"><strong>MEURISSE</strong> HELENE</a></h2><div class=\"clear\"></div></div><div class=\"clear\"></div><div class=\"elements\"><div class=\"item left specialite\">Chirurgien-dentiste</div><div class=\"item right\"></div><div class=\"clear\"></div><div class=\"item left\"></div><div class=\"item right convention\"></div><div class=\"clear\"></div><div class=\"item left adresse\">CABINET DU DR MEURISSE<br/>111 AVENUE DE COURTEILLE<br/>61000 ALENCON</div><div class=\"clear\"></div></div><div class=\"clear\"></div></div>, <div class=\"nom_pictos\"><h2 class=\"ignore-css\"><a href=\"/professionnels-de-sante/fiche-detaillee-meurisse-helene-BrMwkjIwMjK2\"><strong>MEURISSE</strong> HELENE</a></h2><div class=\"clear\"></div></div>, <div class=\"clear\"></div>, <div class=\"clear\"></div>, <div class=\"elements\"><div class=\"item left specialite\">Chirurgien-dentiste</div><div class=\"item right\"></div><div class=\"clear\"></div><div class=\"item left\"></div><div class=\"item right convention\"></div><div class=\"clear\"></div><div class=\"item left adresse\">CABINET DU DR MEURISSE<br/>111 AVENUE DE COURTEILLE<br/>61000 ALENCON</div><div class=\"clear\"></div></div>, <div class=\"item left specialite\">Chirurgien-dentiste</div>, <div class=\"item right\"></div>, <div class=\"clear\"></div>, <div class=\"item left\"></div>, <div class=\"item right convention\"></div>, <div class=\"clear\"></div>, <div class=\"item left adresse\">CABINET DU DR MEURISSE<br/>111 AVENUE DE COURTEILLE<br/>61000 ALENCON</div>, <div class=\"clear\"></div>, <div class=\"clear\"></div>, <div class=\"item-professionnel\"><div class=\"item-professionnel-inner seo-bloc\"><span class=\"num\">5</span><div class=\"nom_pictos\"><h2 class=\"ignore-css\"><a href=\"/professionnels-de-sante/fiche-detaillee-nedelea-lucian-BrMwkjIxMTe0\"><strong>NEDELEA</strong> LUCIAN</a></h2><div class=\"clear\"></div></div><div class=\"clear\"></div><div class=\"elements\"><div class=\"item left specialite\">Chirurgien-dentiste</div><div class=\"item right\"></div><div class=\"clear\"></div><div class=\"item left\"></div><div class=\"item right convention\"></div><div class=\"clear\"></div><div class=\"item left adresse\">SELARL DENTNED<br/>37 AVENUE DE QUAKENBRUCK<br/>61000 ALENCON</div><div class=\"clear\"></div></div><div class=\"clear\"></div></div></div>, <div class=\"item-professionnel-inner seo-bloc\"><span class=\"num\">5</span><div class=\"nom_pictos\"><h2 class=\"ignore-css\"><a href=\"/professionnels-de-sante/fiche-detaillee-nedelea-lucian-BrMwkjIxMTe0\"><strong>NEDELEA</strong> LUCIAN</a></h2><div class=\"clear\"></div></div><div class=\"clear\"></div><div class=\"elements\"><div class=\"item left specialite\">Chirurgien-dentiste</div><div class=\"item right\"></div><div class=\"clear\"></div><div class=\"item left\"></div><div class=\"item right convention\"></div><div class=\"clear\"></div><div class=\"item left adresse\">SELARL DENTNED<br/>37 AVENUE DE QUAKENBRUCK<br/>61000 ALENCON</div><div class=\"clear\"></div></div><div class=\"clear\"></div></div>, <div class=\"nom_pictos\"><h2 class=\"ignore-css\"><a href=\"/professionnels-de-sante/fiche-detaillee-nedelea-lucian-BrMwkjIxMTe0\"><strong>NEDELEA</strong> LUCIAN</a></h2><div class=\"clear\"></div></div>, <div class=\"clear\"></div>, <div class=\"clear\"></div>, <div class=\"elements\"><div class=\"item left specialite\">Chirurgien-dentiste</div><div class=\"item right\"></div><div class=\"clear\"></div><div class=\"item left\"></div><div class=\"item right convention\"></div><div class=\"clear\"></div><div class=\"item left adresse\">SELARL DENTNED<br/>37 AVENUE DE QUAKENBRUCK<br/>61000 ALENCON</div><div class=\"clear\"></div></div>, <div class=\"item left specialite\">Chirurgien-dentiste</div>, <div class=\"item right\"></div>, <div class=\"clear\"></div>, <div class=\"item left\"></div>, <div class=\"item right convention\"></div>, <div class=\"clear\"></div>, <div class=\"item left adresse\">SELARL DENTNED<br/>37 AVENUE DE QUAKENBRUCK<br/>61000 ALENCON</div>, <div class=\"clear\"></div>, <div class=\"clear\"></div>, <div class=\"item-professionnel\"><div class=\"item-professionnel-inner seo-bloc\"><span class=\"num\">6</span><div class=\"nom_pictos centre-sante\"><h2><a href=\"/etablissements-de-soins/fiche-detaillee-centre-de-sante-dentaire-alencon-BrM0lToxMzu1\">CENTRE DE SANTE DENTAIRE ALENCON</a></h2><div class=\"clear\"></div></div><div class=\"clear\"></div><div class=\"fake_pictos\"></div><div class=\"clear\"></div><div class=\"elements\"><div class=\"item left adresse\">CENTRE DE SANTE DENTAIRE ALENCON<br/>26 RUE ODOLANT DESNOS<br/>61000 ALENCON</div><div class=\"item right\"></div><div class=\"clear\"></div><div class=\"item left\"></div><div class=\"clear\"></div></div><div class=\"clear\"></div></div></div>, <div class=\"item-professionnel-inner seo-bloc\"><span class=\"num\">6</span><div class=\"nom_pictos centre-sante\"><h2><a href=\"/etablissements-de-soins/fiche-detaillee-centre-de-sante-dentaire-alencon-BrM0lToxMzu1\">CENTRE DE SANTE DENTAIRE ALENCON</a></h2><div class=\"clear\"></div></div><div class=\"clear\"></div><div class=\"fake_pictos\"></div><div class=\"clear\"></div><div class=\"elements\"><div class=\"item left adresse\">CENTRE DE SANTE DENTAIRE ALENCON<br/>26 RUE ODOLANT DESNOS<br/>61000 ALENCON</div><div class=\"item right\"></div><div class=\"clear\"></div><div class=\"item left\"></div><div class=\"clear\"></div></div><div class=\"clear\"></div></div>, <div class=\"nom_pictos centre-sante\"><h2><a href=\"/etablissements-de-soins/fiche-detaillee-centre-de-sante-dentaire-alencon-BrM0lToxMzu1\">CENTRE DE SANTE DENTAIRE ALENCON</a></h2><div class=\"clear\"></div></div>, <div class=\"clear\"></div>, <div class=\"clear\"></div>, <div class=\"fake_pictos\"></div>, <div class=\"clear\"></div>, <div class=\"elements\"><div class=\"item left adresse\">CENTRE DE SANTE DENTAIRE ALENCON<br/>26 RUE ODOLANT DESNOS<br/>61000 ALENCON</div><div class=\"item right\"></div><div class=\"clear\"></div><div class=\"item left\"></div><div class=\"clear\"></div></div>, <div class=\"item left adresse\">CENTRE DE SANTE DENTAIRE ALENCON<br/>26 RUE ODOLANT DESNOS<br/>61000 ALENCON</div>, <div class=\"item right\"></div>, <div class=\"clear\"></div>, <div class=\"item left\"></div>, <div class=\"clear\"></div>, <div class=\"clear\"></div>, <div class=\"item-professionnel\"><div class=\"item-professionnel-inner seo-bloc\"><span class=\"num\">7</span><div class=\"nom_pictos\"><h2 class=\"ignore-css\"><a href=\"/professionnels-de-sante/fiche-detaillee-beaufrere-carre-laetitia-BrMwkjI1NjSz\"><strong>BEAUFRERE CARRE</strong> LAETITIA</a></h2><div class=\"clear\"></div></div><div class=\"clear\"></div><div class=\"elements\"><div class=\"item left specialite\">Chirurgien-dentiste</div><div class=\"item right\"></div><div class=\"clear\"></div><div class=\"item left\"></div><div class=\"item right convention\"></div><div class=\"clear\"></div><div class=\"item left adresse\">CABINET DU DR BEAUFRERE CARRE<br/>20 RUE DU BOULEVARD<br/>61000 ALENCON</div><div class=\"clear\"></div></div><div class=\"clear\"></div></div></div>, <div class=\"item-professionnel-inner seo-bloc\"><span class=\"num\">7</span><div class=\"nom_pictos\"><h2 class=\"ignore-css\"><a href=\"/professionnels-de-sante/fiche-detaillee-beaufrere-carre-laetitia-BrMwkjI1NjSz\"><strong>BEAUFRERE CARRE</strong> LAETITIA</a></h2><div class=\"clear\"></div></div><div class=\"clear\"></div><div class=\"elements\"><div class=\"item left specialite\">Chirurgien-dentiste</div><div class=\"item right\"></div><div class=\"clear\"></div><div class=\"item left\"></div><div class=\"item right convention\"></div><div class=\"clear\"></div><div class=\"item left adresse\">CABINET DU DR BEAUFRERE CARRE<br/>20 RUE DU BOULEVARD<br/>61000 ALENCON</div><div class=\"clear\"></div></div><div class=\"clear\"></div></div>, <div class=\"nom_pictos\"><h2 class=\"ignore-css\"><a href=\"/professionnels-de-sante/fiche-detaillee-beaufrere-carre-laetitia-BrMwkjI1NjSz\"><strong>BEAUFRERE CARRE</strong> LAETITIA</a></h2><div class=\"clear\"></div></div>, <div class=\"clear\"></div>, <div class=\"clear\"></div>, <div class=\"elements\"><div class=\"item left specialite\">Chirurgien-dentiste</div><div class=\"item right\"></div><div class=\"clear\"></div><div class=\"item left\"></div><div class=\"item right convention\"></div><div class=\"clear\"></div><div class=\"item left adresse\">CABINET DU DR BEAUFRERE CARRE<br/>20 RUE DU BOULEVARD<br/>61000 ALENCON</div><div class=\"clear\"></div></div>, <div class=\"item left specialite\">Chirurgien-dentiste</div>, <div class=\"item right\"></div>, <div class=\"clear\"></div>, <div class=\"item left\"></div>, <div class=\"item right convention\"></div>, <div class=\"clear\"></div>, <div class=\"item left adresse\">CABINET DU DR BEAUFRERE CARRE<br/>20 RUE DU BOULEVARD<br/>61000 ALENCON</div>, <div class=\"clear\"></div>, <div class=\"clear\"></div>, <div class=\"item-professionnel\"><div class=\"item-professionnel-inner seo-bloc\"><span class=\"num\">8</span><div class=\"nom_pictos\"><h2 class=\"ignore-css\"><a href=\"/professionnels-de-sante/fiche-detaillee-blottiere-aurelie-BrMwlDM0NDe6\"><strong>BLOTTIERE</strong> AURELIE</a></h2><div class=\"clear\"></div></div><div class=\"clear\"></div><div class=\"elements\"><div class=\"item left specialite\">Chirurgien-dentiste</div><div class=\"item right\"></div><div class=\"clear\"></div><div class=\"item left\"></div><div class=\"item right convention\"></div><div class=\"clear\"></div><div class=\"item left adresse\">CABINET DU DR BLOTTIERE<br/>7 RUE MAURICE RAVEL<br/>61000 ALENCON</div><div class=\"clear\"></div></div><div class=\"clear\"></div></div></div>, <div class=\"item-professionnel-inner seo-bloc\"><span class=\"num\">8</span><div class=\"nom_pictos\"><h2 class=\"ignore-css\"><a href=\"/professionnels-de-sante/fiche-detaillee-blottiere-aurelie-BrMwlDM0NDe6\"><strong>BLOTTIERE</strong> AURELIE</a></h2><div class=\"clear\"></div></div><div class=\"clear\"></div><div class=\"elements\"><div class=\"item left specialite\">Chirurgien-dentiste</div><div class=\"item right\"></div><div class=\"clear\"></div><div class=\"item left\"></div><div class=\"item right convention\"></div><div class=\"clear\"></div><div class=\"item left adresse\">CABINET DU DR BLOTTIERE<br/>7 RUE MAURICE RAVEL<br/>61000 ALENCON</div><div class=\"clear\"></div></div><div class=\"clear\"></div></div>, <div class=\"nom_pictos\"><h2 class=\"ignore-css\"><a href=\"/professionnels-de-sante/fiche-detaillee-blottiere-aurelie-BrMwlDM0NDe6\"><strong>BLOTTIERE</strong> AURELIE</a></h2><div class=\"clear\"></div></div>, <div class=\"clear\"></div>, <div class=\"clear\"></div>, <div class=\"elements\"><div class=\"item left specialite\">Chirurgien-dentiste</div><div class=\"item right\"></div><div class=\"clear\"></div><div class=\"item left\"></div><div class=\"item right convention\"></div><div class=\"clear\"></div><div class=\"item left adresse\">CABINET DU DR BLOTTIERE<br/>7 RUE MAURICE RAVEL<br/>61000 ALENCON</div><div class=\"clear\"></div></div>, <div class=\"item left specialite\">Chirurgien-dentiste</div>, <div class=\"item right\"></div>, <div class=\"clear\"></div>, <div class=\"item left\"></div>, <div class=\"item right convention\"></div>, <div class=\"clear\"></div>, <div class=\"item left adresse\">CABINET DU DR BLOTTIERE<br/>7 RUE MAURICE RAVEL<br/>61000 ALENCON</div>, <div class=\"clear\"></div>, <div class=\"clear\"></div>, <div class=\"item-professionnel\"><div class=\"item-professionnel-inner seo-bloc\"><span class=\"num\">9</span><div class=\"nom_pictos\"><h2 class=\"ignore-css\"><a href=\"/professionnels-de-sante/fiche-detaillee-ursule-anthony-BrMwkjI0Mzu3\"><strong>URSULE</strong> ANTHONY</a></h2><div class=\"clear\"></div></div><div class=\"clear\"></div><div class=\"elements\"><div class=\"item left specialite\">Chirurgien-dentiste</div><div class=\"item right\"></div><div class=\"clear\"></div><div class=\"item left\"></div><div class=\"item right convention\"></div><div class=\"clear\"></div><div class=\"item left adresse\">CABINET DU DR URSULE<br/>9 COURS GEORGES CLEMENCEAU<br/>61000 ALENCON</div><div class=\"clear\"></div></div><div class=\"clear\"></div></div></div>, <div class=\"item-professionnel-inner seo-bloc\"><span class=\"num\">9</span><div class=\"nom_pictos\"><h2 class=\"ignore-css\"><a href=\"/professionnels-de-sante/fiche-detaillee-ursule-anthony-BrMwkjI0Mzu3\"><strong>URSULE</strong> ANTHONY</a></h2><div class=\"clear\"></div></div><div class=\"clear\"></div><div class=\"elements\"><div class=\"item left specialite\">Chirurgien-dentiste</div><div class=\"item right\"></div><div class=\"clear\"></div><div class=\"item left\"></div><div class=\"item right convention\"></div><div class=\"clear\"></div><div class=\"item left adresse\">CABINET DU DR URSULE<br/>9 COURS GEORGES CLEMENCEAU<br/>61000 ALENCON</div><div class=\"clear\"></div></div><div class=\"clear\"></div></div>, <div class=\"nom_pictos\"><h2 class=\"ignore-css\"><a href=\"/professionnels-de-sante/fiche-detaillee-ursule-anthony-BrMwkjI0Mzu3\"><strong>URSULE</strong> ANTHONY</a></h2><div class=\"clear\"></div></div>, <div class=\"clear\"></div>, <div class=\"clear\"></div>, <div class=\"elements\"><div class=\"item left specialite\">Chirurgien-dentiste</div><div class=\"item right\"></div><div class=\"clear\"></div><div class=\"item left\"></div><div class=\"item right convention\"></div><div class=\"clear\"></div><div class=\"item left adresse\">CABINET DU DR URSULE<br/>9 COURS GEORGES CLEMENCEAU<br/>61000 ALENCON</div><div class=\"clear\"></div></div>, <div class=\"item left specialite\">Chirurgien-dentiste</div>, <div class=\"item right\"></div>, <div class=\"clear\"></div>, <div class=\"item left\"></div>, <div class=\"item right convention\"></div>, <div class=\"clear\"></div>, <div class=\"item left adresse\">CABINET DU DR URSULE<br/>9 COURS GEORGES CLEMENCEAU<br/>61000 ALENCON</div>, <div class=\"clear\"></div>, <div class=\"clear\"></div>, <div class=\"item-professionnel\"><div class=\"item-professionnel-inner seo-bloc\"><span class=\"num\">10</span><div class=\"nom_pictos\"><h2 class=\"ignore-css\"><a href=\"/professionnels-de-sante/fiche-detaillee-collet-claire-BrMwkjIwMTK3\"><strong>COLLET</strong> CLAIRE</a></h2><div class=\"clear\"></div></div><div class=\"clear\"></div><div class=\"elements\"><div class=\"item left specialite\">Chirurgien-dentiste</div><div class=\"item right\"></div><div class=\"clear\"></div><div class=\"item left\"></div><div class=\"item right convention\"></div><div class=\"clear\"></div><div class=\"item left adresse\">CABINET DU DR COLLET<br/>20 RUE DU LIEUTENANT TIROUFLET<br/>61000 ALENCON</div><div class=\"clear\"></div></div><div class=\"clear\"></div></div></div>, <div class=\"item-professionnel-inner seo-bloc\"><span class=\"num\">10</span><div class=\"nom_pictos\"><h2 class=\"ignore-css\"><a href=\"/professionnels-de-sante/fiche-detaillee-collet-claire-BrMwkjIwMTK3\"><strong>COLLET</strong> CLAIRE</a></h2><div class=\"clear\"></div></div><div class=\"clear\"></div><div class=\"elements\"><div class=\"item left specialite\">Chirurgien-dentiste</div><div class=\"item right\"></div><div class=\"clear\"></div><div class=\"item left\"></div><div class=\"item right convention\"></div><div class=\"clear\"></div><div class=\"item left adresse\">CABINET DU DR COLLET<br/>20 RUE DU LIEUTENANT TIROUFLET<br/>61000 ALENCON</div><div class=\"clear\"></div></div><div class=\"clear\"></div></div>, <div class=\"nom_pictos\"><h2 class=\"ignore-css\"><a href=\"/professionnels-de-sante/fiche-detaillee-collet-claire-BrMwkjIwMTK3\"><strong>COLLET</strong> CLAIRE</a></h2><div class=\"clear\"></div></div>, <div class=\"clear\"></div>, <div class=\"clear\"></div>, <div class=\"elements\"><div class=\"item left specialite\">Chirurgien-dentiste</div><div class=\"item right\"></div><div class=\"clear\"></div><div class=\"item left\"></div><div class=\"item right convention\"></div><div class=\"clear\"></div><div class=\"item left adresse\">CABINET DU DR COLLET<br/>20 RUE DU LIEUTENANT TIROUFLET<br/>61000 ALENCON</div><div class=\"clear\"></div></div>, <div class=\"item left specialite\">Chirurgien-dentiste</div>, <div class=\"item right\"></div>, <div class=\"clear\"></div>, <div class=\"item left\"></div>, <div class=\"item right convention\"></div>, <div class=\"clear\"></div>, <div class=\"item left adresse\">CABINET DU DR COLLET<br/>20 RUE DU LIEUTENANT TIROUFLET<br/>61000 ALENCON</div>, <div class=\"clear\"></div>, <div class=\"clear\"></div>, <div class=\"item-professionnel\"><div class=\"item-professionnel-inner seo-bloc\"><span class=\"num\">11</span><div class=\"nom_pictos\"><h2 class=\"ignore-css\"><a href=\"/professionnels-de-sante/fiche-detaillee-tegally-cabaret-nooroulbassar-BrMwlTM0MTG2\"><strong>TEGALLY CABARET</strong> NOOROULBASSAR</a></h2><div class=\"clear\"></div></div><div class=\"clear\"></div><div class=\"elements\"><div class=\"item left specialite\">Chirurgien-dentiste</div><div class=\"item right\"></div><div class=\"clear\"></div><div class=\"item left\"></div><div class=\"item right convention\"></div><div class=\"clear\"></div><div class=\"item left adresse\">CABARET NOOR DENTAIRE<br/>7 RUE PIERRE JOUANNY<br/>61000 ALENCON</div><div class=\"clear\"></div></div><div class=\"clear\"></div></div></div>, <div class=\"item-professionnel-inner seo-bloc\"><span class=\"num\">11</span><div class=\"nom_pictos\"><h2 class=\"ignore-css\"><a href=\"/professionnels-de-sante/fiche-detaillee-tegally-cabaret-nooroulbassar-BrMwlTM0MTG2\"><strong>TEGALLY CABARET</strong> NOOROULBASSAR</a></h2><div class=\"clear\"></div></div><div class=\"clear\"></div><div class=\"elements\"><div class=\"item left specialite\">Chirurgien-dentiste</div><div class=\"item right\"></div><div class=\"clear\"></div><div class=\"item left\"></div><div class=\"item right convention\"></div><div class=\"clear\"></div><div class=\"item left adresse\">CABARET NOOR DENTAIRE<br/>7 RUE PIERRE JOUANNY<br/>61000 ALENCON</div><div class=\"clear\"></div></div><div class=\"clear\"></div></div>, <div class=\"nom_pictos\"><h2 class=\"ignore-css\"><a href=\"/professionnels-de-sante/fiche-detaillee-tegally-cabaret-nooroulbassar-BrMwlTM0MTG2\"><strong>TEGALLY CABARET</strong> NOOROULBASSAR</a></h2><div class=\"clear\"></div></div>, <div class=\"clear\"></div>, <div class=\"clear\"></div>, <div class=\"elements\"><div class=\"item left specialite\">Chirurgien-dentiste</div><div class=\"item right\"></div><div class=\"clear\"></div><div class=\"item left\"></div><div class=\"item right convention\"></div><div class=\"clear\"></div><div class=\"item left adresse\">CABARET NOOR DENTAIRE<br/>7 RUE PIERRE JOUANNY<br/>61000 ALENCON</div><div class=\"clear\"></div></div>, <div class=\"item left specialite\">Chirurgien-dentiste</div>, <div class=\"item right\"></div>, <div class=\"clear\"></div>, <div class=\"item left\"></div>, <div class=\"item right convention\"></div>, <div class=\"clear\"></div>, <div class=\"item left adresse\">CABARET NOOR DENTAIRE<br/>7 RUE PIERRE JOUANNY<br/>61000 ALENCON</div>, <div class=\"clear\"></div>, <div class=\"clear\"></div>, <div class=\"item-professionnel\"><div class=\"item-professionnel-inner seo-bloc\"><span class=\"num\">12</span><div class=\"nom_pictos\"><h2 class=\"ignore-css\"><a href=\"/professionnels-de-sante/fiche-detaillee-steiger-antoine-BrMwmjIzMDu6\"><strong>STEIGER</strong> ANTOINE</a></h2><div class=\"clear\"></div></div><div class=\"clear\"></div><div class=\"elements\"><div class=\"item left specialite\">Chirurgien-dentiste</div><div class=\"item right\"></div><div class=\"clear\"></div><div class=\"item left\"></div><div class=\"item right convention\"></div><div class=\"clear\"></div><div class=\"item left adresse\">CABINET DU DR LAVALLEY<br/>3 RUE DU VAL FLEURY<br/>61000 ALENCON</div><div class=\"clear\"></div></div><div class=\"clear\"></div></div></div>, <div class=\"item-professionnel-inner seo-bloc\"><span class=\"num\">12</span><div class=\"nom_pictos\"><h2 class=\"ignore-css\"><a href=\"/professionnels-de-sante/fiche-detaillee-steiger-antoine-BrMwmjIzMDu6\"><strong>STEIGER</strong> ANTOINE</a></h2><div class=\"clear\"></div></div><div class=\"clear\"></div><div class=\"elements\"><div class=\"item left specialite\">Chirurgien-dentiste</div><div class=\"item right\"></div><div class=\"clear\"></div><div class=\"item left\"></div><div class=\"item right convention\"></div><div class=\"clear\"></div><div class=\"item left adresse\">CABINET DU DR LAVALLEY<br/>3 RUE DU VAL FLEURY<br/>61000 ALENCON</div><div class=\"clear\"></div></div><div class=\"clear\"></div></div>, <div class=\"nom_pictos\"><h2 class=\"ignore-css\"><a href=\"/professionnels-de-sante/fiche-detaillee-steiger-antoine-BrMwmjIzMDu6\"><strong>STEIGER</strong> ANTOINE</a></h2><div class=\"clear\"></div></div>, <div class=\"clear\"></div>, <div class=\"clear\"></div>, <div class=\"elements\"><div class=\"item left specialite\">Chirurgien-dentiste</div><div class=\"item right\"></div><div class=\"clear\"></div><div class=\"item left\"></div><div class=\"item right convention\"></div><div class=\"clear\"></div><div class=\"item left adresse\">CABINET DU DR LAVALLEY<br/>3 RUE DU VAL FLEURY<br/>61000 ALENCON</div><div class=\"clear\"></div></div>, <div class=\"item left specialite\">Chirurgien-dentiste</div>, <div class=\"item right\"></div>, <div class=\"clear\"></div>, <div class=\"item left\"></div>, <div class=\"item right convention\"></div>, <div class=\"clear\"></div>, <div class=\"item left adresse\">CABINET DU DR LAVALLEY<br/>3 RUE DU VAL FLEURY<br/>61000 ALENCON</div>, <div class=\"clear\"></div>, <div class=\"clear\"></div>, <div class=\"item-professionnel\"><div class=\"item-professionnel-inner seo-bloc\"><span class=\"num\">13</span><div class=\"nom_pictos\"><h2 class=\"ignore-css\"><a href=\"/professionnels-de-sante/fiche-detaillee-coroller-julie-BrMwkjI0MTq7\"><strong>COROLLER</strong> JULIE</a></h2><div class=\"clear\"></div></div><div class=\"clear\"></div><div class=\"elements\"><div class=\"item left specialite\">Chirurgien-dentiste</div><div class=\"item right\"></div><div class=\"clear\"></div><div class=\"item left\"></div><div class=\"item right convention\"></div><div class=\"clear\"></div><div class=\"item left adresse\">CABINET DU DR COROLLER<br/>3 RUE DU VAL FLEURI<br/>61000 ALENCON</div><div class=\"clear\"></div></div><div class=\"clear\"></div></div></div>, <div class=\"item-professionnel-inner seo-bloc\"><span class=\"num\">13</span><div class=\"nom_pictos\"><h2 class=\"ignore-css\"><a href=\"/professionnels-de-sante/fiche-detaillee-coroller-julie-BrMwkjI0MTq7\"><strong>COROLLER</strong> JULIE</a></h2><div class=\"clear\"></div></div><div class=\"clear\"></div><div class=\"elements\"><div class=\"item left specialite\">Chirurgien-dentiste</div><div class=\"item right\"></div><div class=\"clear\"></div><div class=\"item left\"></div><div class=\"item right convention\"></div><div class=\"clear\"></div><div class=\"item left adresse\">CABINET DU DR COROLLER<br/>3 RUE DU VAL FLEURI<br/>61000 ALENCON</div><div class=\"clear\"></div></div><div class=\"clear\"></div></div>, <div class=\"nom_pictos\"><h2 class=\"ignore-css\"><a href=\"/professionnels-de-sante/fiche-detaillee-coroller-julie-BrMwkjI0MTq7\"><strong>COROLLER</strong> JULIE</a></h2><div class=\"clear\"></div></div>, <div class=\"clear\"></div>, <div class=\"clear\"></div>, <div class=\"elements\"><div class=\"item left specialite\">Chirurgien-dentiste</div><div class=\"item right\"></div><div class=\"clear\"></div><div class=\"item left\"></div><div class=\"item right convention\"></div><div class=\"clear\"></div><div class=\"item left adresse\">CABINET DU DR COROLLER<br/>3 RUE DU VAL FLEURI<br/>61000 ALENCON</div><div class=\"clear\"></div></div>, <div class=\"item left specialite\">Chirurgien-dentiste</div>, <div class=\"item right\"></div>, <div class=\"clear\"></div>, <div class=\"item left\"></div>, <div class=\"item right convention\"></div>, <div class=\"clear\"></div>, <div class=\"item left adresse\">CABINET DU DR COROLLER<br/>3 RUE DU VAL FLEURI<br/>61000 ALENCON</div>, <div class=\"clear\"></div>, <div class=\"clear\"></div>, <div class=\"item-professionnel\"><div class=\"item-professionnel-inner seo-bloc\"><span class=\"num\">14</span><div class=\"nom_pictos\"><h2 class=\"ignore-css\"><a href=\"/professionnels-de-sante/fiche-detaillee-bontidean-gabriela-BrMwlTI0NDO0\"><strong>BONTIDEAN</strong> GABRIELA</a></h2><div class=\"clear\"></div></div><div class=\"clear\"></div><div class=\"elements\"><div class=\"item left specialite\">Chirurgien-dentiste</div><div class=\"item right\"></div><div class=\"clear\"></div><div class=\"item left\"></div><div class=\"item right convention\"></div><div class=\"clear\"></div><div class=\"item left adresse\">SELARL B AND V<br/>7 RUE MAL JM LATTRE DE TASSIGNY<br/>61000 ALENCON</div><div class=\"clear\"></div></div><div class=\"clear\"></div></div></div>, <div class=\"item-professionnel-inner seo-bloc\"><span class=\"num\">14</span><div class=\"nom_pictos\"><h2 class=\"ignore-css\"><a href=\"/professionnels-de-sante/fiche-detaillee-bontidean-gabriela-BrMwlTI0NDO0\"><strong>BONTIDEAN</strong> GABRIELA</a></h2><div class=\"clear\"></div></div><div class=\"clear\"></div><div class=\"elements\"><div class=\"item left specialite\">Chirurgien-dentiste</div><div class=\"item right\"></div><div class=\"clear\"></div><div class=\"item left\"></div><div class=\"item right convention\"></div><div class=\"clear\"></div><div class=\"item left adresse\">SELARL B AND V<br/>7 RUE MAL JM LATTRE DE TASSIGNY<br/>61000 ALENCON</div><div class=\"clear\"></div></div><div class=\"clear\"></div></div>, <div class=\"nom_pictos\"><h2 class=\"ignore-css\"><a href=\"/professionnels-de-sante/fiche-detaillee-bontidean-gabriela-BrMwlTI0NDO0\"><strong>BONTIDEAN</strong> GABRIELA</a></h2><div class=\"clear\"></div></div>, <div class=\"clear\"></div>, <div class=\"clear\"></div>, <div class=\"elements\"><div class=\"item left specialite\">Chirurgien-dentiste</div><div class=\"item right\"></div><div class=\"clear\"></div><div class=\"item left\"></div><div class=\"item right convention\"></div><div class=\"clear\"></div><div class=\"item left adresse\">SELARL B AND V<br/>7 RUE MAL JM LATTRE DE TASSIGNY<br/>61000 ALENCON</div><div class=\"clear\"></div></div>, <div class=\"item left specialite\">Chirurgien-dentiste</div>, <div class=\"item right\"></div>, <div class=\"clear\"></div>, <div class=\"item left\"></div>, <div class=\"item right convention\"></div>, <div class=\"clear\"></div>, <div class=\"item left adresse\">SELARL B AND V<br/>7 RUE MAL JM LATTRE DE TASSIGNY<br/>61000 ALENCON</div>, <div class=\"clear\"></div>, <div class=\"clear\"></div>, <div class=\"item-professionnel\"><div class=\"item-professionnel-inner seo-bloc\"><span class=\"num\">15</span><div class=\"nom_pictos\"><h2 class=\"ignore-css\"><a href=\"/professionnels-de-sante/fiche-detaillee-steiger-antoine-BrMwkjIzMDu3\"><strong>STEIGER</strong> ANTOINE</a></h2><div class=\"clear\"></div></div><div class=\"clear\"></div><div class=\"elements\"><div class=\"item left specialite\">Chirurgien-dentiste</div><div class=\"item right\"></div><div class=\"clear\"></div><div class=\"item left\"></div><div class=\"item right convention\"></div><div class=\"clear\"></div><div class=\"item left adresse\">CABINET DU DR COROLLER<br/>3 RUE DU VAL FLEURY<br/>61000 ALENCON</div><div class=\"clear\"></div></div><div class=\"clear\"></div></div></div>, <div class=\"item-professionnel-inner seo-bloc\"><span class=\"num\">15</span><div class=\"nom_pictos\"><h2 class=\"ignore-css\"><a href=\"/professionnels-de-sante/fiche-detaillee-steiger-antoine-BrMwkjIzMDu3\"><strong>STEIGER</strong> ANTOINE</a></h2><div class=\"clear\"></div></div><div class=\"clear\"></div><div class=\"elements\"><div class=\"item left specialite\">Chirurgien-dentiste</div><div class=\"item right\"></div><div class=\"clear\"></div><div class=\"item left\"></div><div class=\"item right convention\"></div><div class=\"clear\"></div><div class=\"item left adresse\">CABINET DU DR COROLLER<br/>3 RUE DU VAL FLEURY<br/>61000 ALENCON</div><div class=\"clear\"></div></div><div class=\"clear\"></div></div>, <div class=\"nom_pictos\"><h2 class=\"ignore-css\"><a href=\"/professionnels-de-sante/fiche-detaillee-steiger-antoine-BrMwkjIzMDu3\"><strong>STEIGER</strong> ANTOINE</a></h2><div class=\"clear\"></div></div>, <div class=\"clear\"></div>, <div class=\"clear\"></div>, <div class=\"elements\"><div class=\"item left specialite\">Chirurgien-dentiste</div><div class=\"item right\"></div><div class=\"clear\"></div><div class=\"item left\"></div><div class=\"item right convention\"></div><div class=\"clear\"></div><div class=\"item left adresse\">CABINET DU DR COROLLER<br/>3 RUE DU VAL FLEURY<br/>61000 ALENCON</div><div class=\"clear\"></div></div>, <div class=\"item left specialite\">Chirurgien-dentiste</div>, <div class=\"item right\"></div>, <div class=\"clear\"></div>, <div class=\"item left\"></div>, <div class=\"item right convention\"></div>, <div class=\"clear\"></div>, <div class=\"item left adresse\">CABINET DU DR COROLLER<br/>3 RUE DU VAL FLEURY<br/>61000 ALENCON</div>, <div class=\"clear\"></div>, <div class=\"clear\"></div>, <div class=\"item-professionnel\"><div class=\"item-professionnel-inner seo-bloc\"><span class=\"num\">16</span><div class=\"nom_pictos\"><h2 class=\"ignore-css\"><a href=\"/professionnels-de-sante/fiche-detaillee-lavalley-stephane-BrMwkjI1NjW7\"><strong>LAVALLEY</strong> STEPHANE</a></h2><div class=\"clear\"></div></div><div class=\"clear\"></div><div class=\"elements\"><div class=\"item left specialite\">Chirurgien-dentiste</div><div class=\"item right\"></div><div class=\"clear\"></div><div class=\"item left\"></div><div class=\"item right convention\"></div><div class=\"clear\"></div><div class=\"item left adresse\">CABINET DU DR LAVALLEY<br/>3 RUE DU VAL FLEURI<br/>61000 ALENCON</div><div class=\"clear\"></div></div><div class=\"clear\"></div></div></div>, <div class=\"item-professionnel-inner seo-bloc\"><span class=\"num\">16</span><div class=\"nom_pictos\"><h2 class=\"ignore-css\"><a href=\"/professionnels-de-sante/fiche-detaillee-lavalley-stephane-BrMwkjI1NjW7\"><strong>LAVALLEY</strong> STEPHANE</a></h2><div class=\"clear\"></div></div><div class=\"clear\"></div><div class=\"elements\"><div class=\"item left specialite\">Chirurgien-dentiste</div><div class=\"item right\"></div><div class=\"clear\"></div><div class=\"item left\"></div><div class=\"item right convention\"></div><div class=\"clear\"></div><div class=\"item left adresse\">CABINET DU DR LAVALLEY<br/>3 RUE DU VAL FLEURI<br/>61000 ALENCON</div><div class=\"clear\"></div></div><div class=\"clear\"></div></div>, <div class=\"nom_pictos\"><h2 class=\"ignore-css\"><a href=\"/professionnels-de-sante/fiche-detaillee-lavalley-stephane-BrMwkjI1NjW7\"><strong>LAVALLEY</strong> STEPHANE</a></h2><div class=\"clear\"></div></div>, <div class=\"clear\"></div>, <div class=\"clear\"></div>, <div class=\"elements\"><div class=\"item left specialite\">Chirurgien-dentiste</div><div class=\"item right\"></div><div class=\"clear\"></div><div class=\"item left\"></div><div class=\"item right convention\"></div><div class=\"clear\"></div><div class=\"item left adresse\">CABINET DU DR LAVALLEY<br/>3 RUE DU VAL FLEURI<br/>61000 ALENCON</div><div class=\"clear\"></div></div>, <div class=\"item left specialite\">Chirurgien-dentiste</div>, <div class=\"item right\"></div>, <div class=\"clear\"></div>, <div class=\"item left\"></div>, <div class=\"item right convention\"></div>, <div class=\"clear\"></div>, <div class=\"item left adresse\">CABINET DU DR LAVALLEY<br/>3 RUE DU VAL FLEURI<br/>61000 ALENCON</div>, <div class=\"clear\"></div>, <div class=\"clear\"></div>, <div class=\"item-professionnel\"><div class=\"item-professionnel-inner seo-bloc\"><span class=\"num\">17</span><div class=\"nom_pictos\"><h2 class=\"ignore-css\"><a href=\"/professionnels-de-sante/fiche-detaillee-le-blanc-caroline-BrMwkjI0NDC7\"><strong>LE BLANC</strong> CAROLINE</a></h2><div class=\"clear\"></div></div><div class=\"clear\"></div><div class=\"elements\"><div class=\"item left specialite\">Chirurgien-dentiste</div><div class=\"item right\"></div><div class=\"clear\"></div><div class=\"item left\"></div><div class=\"item right convention\"></div><div class=\"clear\"></div><div class=\"item left adresse\">CABINET DU DR LE BLANC<br/>9 COURS GEORGES CLEMENCEAU<br/>61000 ALENCON</div><div class=\"clear\"></div></div><div class=\"clear\"></div></div></div>, <div class=\"item-professionnel-inner seo-bloc\"><span class=\"num\">17</span><div class=\"nom_pictos\"><h2 class=\"ignore-css\"><a href=\"/professionnels-de-sante/fiche-detaillee-le-blanc-caroline-BrMwkjI0NDC7\"><strong>LE BLANC</strong> CAROLINE</a></h2><div class=\"clear\"></div></div><div class=\"clear\"></div><div class=\"elements\"><div class=\"item left specialite\">Chirurgien-dentiste</div><div class=\"item right\"></div><div class=\"clear\"></div><div class=\"item left\"></div><div class=\"item right convention\"></div><div class=\"clear\"></div><div class=\"item left adresse\">CABINET DU DR LE BLANC<br/>9 COURS GEORGES CLEMENCEAU<br/>61000 ALENCON</div><div class=\"clear\"></div></div><div class=\"clear\"></div></div>, <div class=\"nom_pictos\"><h2 class=\"ignore-css\"><a href=\"/professionnels-de-sante/fiche-detaillee-le-blanc-caroline-BrMwkjI0NDC7\"><strong>LE BLANC</strong> CAROLINE</a></h2><div class=\"clear\"></div></div>, <div class=\"clear\"></div>, <div class=\"clear\"></div>, <div class=\"elements\"><div class=\"item left specialite\">Chirurgien-dentiste</div><div class=\"item right\"></div><div class=\"clear\"></div><div class=\"item left\"></div><div class=\"item right convention\"></div><div class=\"clear\"></div><div class=\"item left adresse\">CABINET DU DR LE BLANC<br/>9 COURS GEORGES CLEMENCEAU<br/>61000 ALENCON</div><div class=\"clear\"></div></div>, <div class=\"item left specialite\">Chirurgien-dentiste</div>, <div class=\"item right\"></div>, <div class=\"clear\"></div>, <div class=\"item left\"></div>, <div class=\"item right convention\"></div>, <div class=\"clear\"></div>, <div class=\"item left adresse\">CABINET DU DR LE BLANC<br/>9 COURS GEORGES CLEMENCEAU<br/>61000 ALENCON</div>, <div class=\"clear\"></div>, <div class=\"clear\"></div>, <div class=\"item-professionnel\"><div class=\"item-professionnel-inner seo-bloc\"><span class=\"num\">18</span><div class=\"nom_pictos\"><h2 class=\"ignore-css\"><a href=\"/professionnels-de-sante/fiche-detaillee-ciglenean-adelina-BrMwkjI0NDKx\"><strong>CIGLENEAN</strong> ADELINA</a></h2><div class=\"clear\"></div></div><div class=\"clear\"></div><div class=\"elements\"><div class=\"item left specialite\">Chirurgien-dentiste</div><div class=\"item right\"></div><div class=\"clear\"></div><div class=\"item left\"></div><div class=\"item right convention\"></div><div class=\"clear\"></div><div class=\"item left adresse\">SELARL ADI<br/>1 RUE JACQUES CONTE<br/>61000 ALENCON</div><div class=\"clear\"></div></div><div class=\"clear\"></div></div></div>, <div class=\"item-professionnel-inner seo-bloc\"><span class=\"num\">18</span><div class=\"nom_pictos\"><h2 class=\"ignore-css\"><a href=\"/professionnels-de-sante/fiche-detaillee-ciglenean-adelina-BrMwkjI0NDKx\"><strong>CIGLENEAN</strong> ADELINA</a></h2><div class=\"clear\"></div></div><div class=\"clear\"></div><div class=\"elements\"><div class=\"item left specialite\">Chirurgien-dentiste</div><div class=\"item right\"></div><div class=\"clear\"></div><div class=\"item left\"></div><div class=\"item right convention\"></div><div class=\"clear\"></div><div class=\"item left adresse\">SELARL ADI<br/>1 RUE JACQUES CONTE<br/>61000 ALENCON</div><div class=\"clear\"></div></div><div class=\"clear\"></div></div>, <div class=\"nom_pictos\"><h2 class=\"ignore-css\"><a href=\"/professionnels-de-sante/fiche-detaillee-ciglenean-adelina-BrMwkjI0NDKx\"><strong>CIGLENEAN</strong> ADELINA</a></h2><div class=\"clear\"></div></div>, <div class=\"clear\"></div>, <div class=\"clear\"></div>, <div class=\"elements\"><div class=\"item left specialite\">Chirurgien-dentiste</div><div class=\"item right\"></div><div class=\"clear\"></div><div class=\"item left\"></div><div class=\"item right convention\"></div><div class=\"clear\"></div><div class=\"item left adresse\">SELARL ADI<br/>1 RUE JACQUES CONTE<br/>61000 ALENCON</div><div class=\"clear\"></div></div>, <div class=\"item left specialite\">Chirurgien-dentiste</div>, <div class=\"item right\"></div>, <div class=\"clear\"></div>, <div class=\"item left\"></div>, <div class=\"item right convention\"></div>, <div class=\"clear\"></div>, <div class=\"item left adresse\">SELARL ADI<br/>1 RUE JACQUES CONTE<br/>61000 ALENCON</div>, <div class=\"clear\"></div>, <div class=\"clear\"></div>, <div class=\"item-professionnel\"><div class=\"item-professionnel-inner seo-bloc\"><span class=\"num\">19</span><div class=\"nom_pictos\"><h2 class=\"ignore-css\"><a href=\"/professionnels-de-sante/fiche-detaillee-de-maneville-isabelle-BrMwkjI1MjWx\"><strong>DE MANEVILLE</strong> ISABELLE</a></h2><div class=\"clear\"></div></div><div class=\"clear\"></div><div class=\"elements\"><div class=\"item left specialite\">Chirurgien-dentiste</div><div class=\"item right\"></div><div class=\"clear\"></div><div class=\"item left\"></div><div class=\"item right convention\"></div><div class=\"clear\"></div><div class=\"item left adresse\">CABINET DU DR DE MANEVILLE<br/>CABINET DR DE MANEVILLE<br/>20 RUE DU BOULEVARD<br/>61000 ALENCON</div><div class=\"clear\"></div></div><div class=\"clear\"></div></div></div>, <div class=\"item-professionnel-inner seo-bloc\"><span class=\"num\">19</span><div class=\"nom_pictos\"><h2 class=\"ignore-css\"><a href=\"/professionnels-de-sante/fiche-detaillee-de-maneville-isabelle-BrMwkjI1MjWx\"><strong>DE MANEVILLE</strong> ISABELLE</a></h2><div class=\"clear\"></div></div><div class=\"clear\"></div><div class=\"elements\"><div class=\"item left specialite\">Chirurgien-dentiste</div><div class=\"item right\"></div><div class=\"clear\"></div><div class=\"item left\"></div><div class=\"item right convention\"></div><div class=\"clear\"></div><div class=\"item left adresse\">CABINET DU DR DE MANEVILLE<br/>CABINET DR DE MANEVILLE<br/>20 RUE DU BOULEVARD<br/>61000 ALENCON</div><div class=\"clear\"></div></div><div class=\"clear\"></div></div>, <div class=\"nom_pictos\"><h2 class=\"ignore-css\"><a href=\"/professionnels-de-sante/fiche-detaillee-de-maneville-isabelle-BrMwkjI1MjWx\"><strong>DE MANEVILLE</strong> ISABELLE</a></h2><div class=\"clear\"></div></div>, <div class=\"clear\"></div>, <div class=\"clear\"></div>, <div class=\"elements\"><div class=\"item left specialite\">Chirurgien-dentiste</div><div class=\"item right\"></div><div class=\"clear\"></div><div class=\"item left\"></div><div class=\"item right convention\"></div><div class=\"clear\"></div><div class=\"item left adresse\">CABINET DU DR DE MANEVILLE<br/>CABINET DR DE MANEVILLE<br/>20 RUE DU BOULEVARD<br/>61000 ALENCON</div><div class=\"clear\"></div></div>, <div class=\"item left specialite\">Chirurgien-dentiste</div>, <div class=\"item right\"></div>, <div class=\"clear\"></div>, <div class=\"item left\"></div>, <div class=\"item right convention\"></div>, <div class=\"clear\"></div>, <div class=\"item left adresse\">CABINET DU DR DE MANEVILLE<br/>CABINET DR DE MANEVILLE<br/>20 RUE DU BOULEVARD<br/>61000 ALENCON</div>, <div class=\"clear\"></div>, <div class=\"clear\"></div>, <div class=\"item-professionnel\"><div class=\"item-professionnel-inner seo-bloc\"><span class=\"num\">20</span><div class=\"nom_pictos\"><h2 class=\"ignore-css\"><a href=\"/professionnels-de-sante/fiche-detaillee-moliere-pauline-BrMwkjIwODS3\"><strong>MOLIERE</strong> PAULINE</a></h2><div class=\"clear\"></div></div><div class=\"clear\"></div><div class=\"elements\"><div class=\"item left specialite\">Chirurgien-dentiste</div><div class=\"item right\"></div><div class=\"clear\"></div><div class=\"item left\"></div><div class=\"item right convention\"></div><div class=\"clear\"></div><div class=\"item left adresse\">CABINET DU DR BLOTTIERE<br/>7 RUE MAURICE RAVEL<br/>61000 ALENCON</div><div class=\"clear\"></div></div><div class=\"clear\"></div></div></div>, <div class=\"item-professionnel-inner seo-bloc\"><span class=\"num\">20</span><div class=\"nom_pictos\"><h2 class=\"ignore-css\"><a href=\"/professionnels-de-sante/fiche-detaillee-moliere-pauline-BrMwkjIwODS3\"><strong>MOLIERE</strong> PAULINE</a></h2><div class=\"clear\"></div></div><div class=\"clear\"></div><div class=\"elements\"><div class=\"item left specialite\">Chirurgien-dentiste</div><div class=\"item right\"></div><div class=\"clear\"></div><div class=\"item left\"></div><div class=\"item right convention\"></div><div class=\"clear\"></div><div class=\"item left adresse\">CABINET DU DR BLOTTIERE<br/>7 RUE MAURICE RAVEL<br/>61000 ALENCON</div><div class=\"clear\"></div></div><div class=\"clear\"></div></div>, <div class=\"nom_pictos\"><h2 class=\"ignore-css\"><a href=\"/professionnels-de-sante/fiche-detaillee-moliere-pauline-BrMwkjIwODS3\"><strong>MOLIERE</strong> PAULINE</a></h2><div class=\"clear\"></div></div>, <div class=\"clear\"></div>, <div class=\"clear\"></div>, <div class=\"elements\"><div class=\"item left specialite\">Chirurgien-dentiste</div><div class=\"item right\"></div><div class=\"clear\"></div><div class=\"item left\"></div><div class=\"item right convention\"></div><div class=\"clear\"></div><div class=\"item left adresse\">CABINET DU DR BLOTTIERE<br/>7 RUE MAURICE RAVEL<br/>61000 ALENCON</div><div class=\"clear\"></div></div>, <div class=\"item left specialite\">Chirurgien-dentiste</div>, <div class=\"item right\"></div>, <div class=\"clear\"></div>, <div class=\"item left\"></div>, <div class=\"item right convention\"></div>, <div class=\"clear\"></div>, <div class=\"item left adresse\">CABINET DU DR BLOTTIERE<br/>7 RUE MAURICE RAVEL<br/>61000 ALENCON</div>, <div class=\"clear\"></div>, <div class=\"clear\"></div>, <div class=\"tri\"></div>, <div class=\"pagination\">\n",
      "<form action=\"/trouver-un-professionnel-de-sante/chirurgiens-dentistes/61-orne-alencon\" method=\"post\">\n",
      "\n",
      "\t\t\n",
      "\t\tPage <input name=\"pageCible\" type=\"text\" value=\"1\"/> sur 2\n",
      "\t\t\t\t\t<a href=\"/trouver-un-professionnel-de-sante/chirurgiens-dentistes/61-orne-alencon/page-2\" rel=\"next\">\n",
      "<img alt=\"Page suivante\" src=\"/resources_ver/20220302095149/images/pagination_next.png\"/>\n",
      "</a>\n",
      "<a href=\"/trouver-un-professionnel-de-sante/chirurgiens-dentistes/61-orne-alencon/page-2\" rel=\"last\">\n",
      "<img alt=\" - Aller à la dernière page\" src=\"/resources_ver/20220302095149/images/pagination_last.png\"/>\n",
      "</a>\n",
      "</form>\n",
      "</div>, <div class=\"clear\"></div>, <div id=\"bascadre\"></div>, <div class=\"clear\"></div>, <div id=\"footer\">\n",
      "<div class=\"mention\">L'utilisation du service offert sur ce site est soumise au respect des conditions d'utilisation. Toute reproduction intégrale ou partielle des contenus, données et informations disponibles est illicite et peut donner lieu à des sanctions.</div>\n",
      "<div class=\"liens\">\n",
      "<div class=\"titre\"></div>\n",
      "<div class=\"site\">\n",
      "<a href=\"https://www.ameli.fr\" target=\"_blank\"><img alt=\"ameli.fr\" src=\"/resources_ver/20220302095149/images/footer_ameli.svg\"/><br/><br/></a>\n",
      "<a href=\"https://www.ameli.fr\" target=\"_blank\">Le site de l’Assurance Maladie en ligne</a>\n",
      "</div>\n",
      "<div class=\"mise-a-dispo-donnees\">\n",
      "                Dans le cadre de la politique d'ouverture et de partage des\n",
      "                données publiques, les informations présentées sur ce site sont\n",
      "                désormais disponibles sur la plateforme data.gouv.fr. Elles sont\n",
      "                réutilisables sous réserve du respect des dispositions\n",
      "                réglementaires relatives à la protection des données\n",
      "                personnelles. Les demandes d’exercice de droits des personnes\n",
      "                concernées (accès, rectification, opposition le cas échéant)\n",
      "                sont à adresser au directeur du programme annuaire-santé, à la\n",
      "                Cnam, Direction de l'Offre de Soins, 50 Avenue du Professeur\n",
      "                André Lemierre, 75020 Paris.\n",
      "            </div>\n",
      "</div>\n",
      "<div class=\"clear\"></div>\n",
      "<div class=\"liens-transverse\">\n",
      "<a class=\"thickbox firstLink\" href=\"/trouver-un-professionnel-de-sante/\" title=\"Trouver un professionnel de santé\">Liste des professionnels de santé</a>\n",
      "<a class=\"thickbox\" href=\"/fenetre-modale-xhr/mentions_legales_et_cgu.html?width=700&amp;modal=true\" rel=\"nofollow\" title=\"Mentions légales et CGU\">Mentions légales et CGU</a>\n",
      "<a class=\"thickbox\" href=\"/fenetre-modale-xhr/protection_donnees_personnelles.html?width=700&amp;modal=true\" rel=\"nofollow\" title=\"Protection des données personnelles\">Protection des données personnelles</a>\n",
      "<a href=\"/\" onclick=\"tarteaucitron.userInterface.openPanel(); return false;\" title=\"Gestion des cookies\">Gestion des cookies</a>\n",
      "<a href=\"https://www.data.gouv.fr/fr/datasets/annuaire-sante-de-la-cnam/\" target=\"_blank\">data.gouv.fr</a>\n",
      "</div>\n",
      "</div>, <div class=\"mention\">L'utilisation du service offert sur ce site est soumise au respect des conditions d'utilisation. Toute reproduction intégrale ou partielle des contenus, données et informations disponibles est illicite et peut donner lieu à des sanctions.</div>, <div class=\"liens\">\n",
      "<div class=\"titre\"></div>\n",
      "<div class=\"site\">\n",
      "<a href=\"https://www.ameli.fr\" target=\"_blank\"><img alt=\"ameli.fr\" src=\"/resources_ver/20220302095149/images/footer_ameli.svg\"/><br/><br/></a>\n",
      "<a href=\"https://www.ameli.fr\" target=\"_blank\">Le site de l’Assurance Maladie en ligne</a>\n",
      "</div>\n",
      "<div class=\"mise-a-dispo-donnees\">\n",
      "                Dans le cadre de la politique d'ouverture et de partage des\n",
      "                données publiques, les informations présentées sur ce site sont\n",
      "                désormais disponibles sur la plateforme data.gouv.fr. Elles sont\n",
      "                réutilisables sous réserve du respect des dispositions\n",
      "                réglementaires relatives à la protection des données\n",
      "                personnelles. Les demandes d’exercice de droits des personnes\n",
      "                concernées (accès, rectification, opposition le cas échéant)\n",
      "                sont à adresser au directeur du programme annuaire-santé, à la\n",
      "                Cnam, Direction de l'Offre de Soins, 50 Avenue du Professeur\n",
      "                André Lemierre, 75020 Paris.\n",
      "            </div>\n",
      "</div>, <div class=\"titre\"></div>, <div class=\"site\">\n",
      "<a href=\"https://www.ameli.fr\" target=\"_blank\"><img alt=\"ameli.fr\" src=\"/resources_ver/20220302095149/images/footer_ameli.svg\"/><br/><br/></a>\n",
      "<a href=\"https://www.ameli.fr\" target=\"_blank\">Le site de l’Assurance Maladie en ligne</a>\n",
      "</div>, <div class=\"mise-a-dispo-donnees\">\n",
      "                Dans le cadre de la politique d'ouverture et de partage des\n",
      "                données publiques, les informations présentées sur ce site sont\n",
      "                désormais disponibles sur la plateforme data.gouv.fr. Elles sont\n",
      "                réutilisables sous réserve du respect des dispositions\n",
      "                réglementaires relatives à la protection des données\n",
      "                personnelles. Les demandes d’exercice de droits des personnes\n",
      "                concernées (accès, rectification, opposition le cas échéant)\n",
      "                sont à adresser au directeur du programme annuaire-santé, à la\n",
      "                Cnam, Direction de l'Offre de Soins, 50 Avenue du Professeur\n",
      "                André Lemierre, 75020 Paris.\n",
      "            </div>, <div class=\"clear\"></div>, <div class=\"liens-transverse\">\n",
      "<a class=\"thickbox firstLink\" href=\"/trouver-un-professionnel-de-sante/\" title=\"Trouver un professionnel de santé\">Liste des professionnels de santé</a>\n",
      "<a class=\"thickbox\" href=\"/fenetre-modale-xhr/mentions_legales_et_cgu.html?width=700&amp;modal=true\" rel=\"nofollow\" title=\"Mentions légales et CGU\">Mentions légales et CGU</a>\n",
      "<a class=\"thickbox\" href=\"/fenetre-modale-xhr/protection_donnees_personnelles.html?width=700&amp;modal=true\" rel=\"nofollow\" title=\"Protection des données personnelles\">Protection des données personnelles</a>\n",
      "<a href=\"/\" onclick=\"tarteaucitron.userInterface.openPanel(); return false;\" title=\"Gestion des cookies\">Gestion des cookies</a>\n",
      "<a href=\"https://www.data.gouv.fr/fr/datasets/annuaire-sante-de-la-cnam/\" target=\"_blank\">data.gouv.fr</a>\n",
      "</div>]\n"
     ]
    }
   ],
   "execution_count": 16
  },
  {
   "cell_type": "code",
   "source": [
    "\"\"\" \n",
    "Champs Numéro de telephone\n",
    "\"\"\"\n",
    "\n",
    "url = \"http://annuairesante.ameli.fr/trouver-un-professionnel-de-sante/chirurgiens-dentistes/61-orne-flers\"\n",
    "reponse = requests.get(url)\n",
    "soup = BeautifulSoup(reponse.content, 'html.parser')\n",
    "#for num_de_tel in soup.find('div', {'class': 'item left tel'}).find('div', {'class': 'item left tel'}):\n",
    "#    print(num_de_tel.get_text(''))\n"
   ],
   "metadata": {
    "tags": [],
    "cell_id": "e310fb957a9f4729852b94a73ed8c68c",
    "source_hash": "c8a7cc5e",
    "owner_user_id": "f6dc7f70-8792-40c3-97b1-11c155cb4999",
    "execution_start": 1655955039830,
    "execution_millis": 1080,
    "deepnote_cell_height": 243,
    "deepnote_to_be_reexecuted": false,
    "deepnote_cell_type": "code",
    "pycharm": {
     "name": "#%%\n"
    }
   },
   "outputs": [],
   "execution_count": 17
  },
  {
   "cell_type": "code",
   "source": [
    "\"\"\" \n",
    "Champs adresse\n",
    "\"\"\""
   ],
   "metadata": {
    "tags": [],
    "cell_id": "67b07b3f47964776a99a9074ecaa8312",
    "deepnote_cell_height": 102,
    "deepnote_cell_type": "code",
    "pycharm": {
     "name": "#%%\n"
    }
   },
   "outputs": [
    {
     "data": {
      "text/plain": "' \\nChamps adresse\\n'"
     },
     "execution_count": 18,
     "metadata": {},
     "output_type": "execute_result"
    }
   ],
   "execution_count": 18
  },
  {
   "cell_type": "code",
   "source": [
    "\"\"\" \n",
    "Scrapping des données Utilisateurs \n",
    "\"\"\""
   ],
   "metadata": {
    "tags": [],
    "cell_id": "f61f111661ce40ce98c8a0346eddbbd5",
    "deepnote_cell_height": 102,
    "deepnote_cell_type": "code",
    "pycharm": {
     "name": "#%%\n"
    }
   },
   "outputs": [
    {
     "data": {
      "text/plain": "' \\nScrapping des données Utilisateurs \\n'"
     },
     "execution_count": 19,
     "metadata": {},
     "output_type": "execute_result"
    }
   ],
   "execution_count": 19
  },
  {
   "cell_type": "markdown",
   "source": [
    "## ___2 Analyse de données___ \n",
    "\n",
    "Dans une première phase analyser le nombre des praticiens par commune et la population / praticien.\n",
    "\n",
    "NB. Un praticien /praticienne peut couvrir une zone à 50km en milieu rural et 5km en urbain.\n"
   ],
   "metadata": {
    "tags": [],
    "cell_id": "b4f05e2ce7054e45bc52fd8f62dd3f5c",
    "deepnote_cell_height": 144,
    "deepnote_cell_type": "markdown",
    "pycharm": {
     "name": "#%% md\n"
    }
   }
  },
  {
   "cell_type": "markdown",
   "source": [
    "### ___3 Resultat___\n",
    " "
   ],
   "metadata": {
    "tags": [],
    "cell_id": "d76cf114cded45168adac6504300c6a7",
    "deepnote_cell_height": 62,
    "deepnote_cell_type": "markdown",
    "pycharm": {
     "name": "#%% md\n"
    }
   }
  },
  {
   "cell_type": "code",
   "source": [
    "departement = soup.findAll('li', class_='seo-departement')\n",
    "nom_des_villes = []\n",
    "for nom in departement :\n",
    "    a = nom.find('a')\n",
    "    noms = a.get('href')\n",
    "    nom_des_villes.append(noms)\n",
    "print(nom_des_villes)\n",
    "\n",
    "### récupération des champs des départements \n",
    "departement = soup.findAll('li', class_='seo-departement')\n",
    "nom_des_villes = []\n",
    "for nom in departement :\n",
    "    a = nom.find('a')\n",
    "    noms = a.get_text('href')\n",
    "    nom_des_villes.append(noms)\n",
    "print(nom_des_villes)\n",
    "\n"
   ],
   "metadata": {
    "tags": [],
    "cell_id": "771cb30a0d3f4dea9379e42cf77a8ff5",
    "source_hash": "874b68e6",
    "execution_start": 1655946481858,
    "execution_millis": 4,
    "deepnote_cell_height": 442,
    "deepnote_to_be_reexecuted": false,
    "deepnote_cell_type": "code",
    "pycharm": {
     "name": "#%%\n"
    }
   },
   "outputs": [
    {
     "name": "stdout",
     "output_type": "stream",
     "text": [
      "[]\n",
      "[]\n"
     ]
    }
   ],
   "execution_count": 20
  }
 ],
 "nbformat": 4,
 "nbformat_minor": 0,
 "metadata": {
  "deepnote": {},
  "orig_nbformat": 2,
  "deepnote_notebook_id": "139645dd66434d55bc138ce48904e8b1",
  "deepnote_execution_queue": []
 }
}